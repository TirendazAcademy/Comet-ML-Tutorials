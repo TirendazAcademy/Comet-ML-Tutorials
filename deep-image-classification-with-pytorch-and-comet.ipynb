{
 "cells": [
  {
   "cell_type": "code",
   "execution_count": 1,
   "id": "45bbcc6e",
   "metadata": {
    "execution": {
     "iopub.execute_input": "2023-01-23T08:37:45.859064Z",
     "iopub.status.busy": "2023-01-23T08:37:45.858582Z",
     "iopub.status.idle": "2023-01-23T08:38:03.574813Z",
     "shell.execute_reply": "2023-01-23T08:38:03.573545Z"
    },
    "papermill": {
     "duration": 17.725519,
     "end_time": "2023-01-23T08:38:03.577254",
     "exception": false,
     "start_time": "2023-01-23T08:37:45.851735",
     "status": "completed"
    },
    "tags": []
   },
   "outputs": [
    {
     "name": "stdout",
     "output_type": "stream",
     "text": [
      "Collecting comet_ml\r\n",
      "  Downloading comet_ml-3.31.23-py3-none-any.whl (450 kB)\r\n",
      "\u001b[2K     \u001b[90m━━━━━━━━━━━━━━━━━━━━━━━━━━━━━━━━━━━━━━━\u001b[0m \u001b[32m450.9/450.9 kB\u001b[0m \u001b[31m4.8 MB/s\u001b[0m eta \u001b[36m0:00:00\u001b[0m\r\n",
      "\u001b[?25hRequirement already satisfied: wrapt>=1.11.2 in /opt/conda/lib/python3.7/site-packages (from comet_ml) (1.12.1)\r\n",
      "Requirement already satisfied: importlib-metadata in /opt/conda/lib/python3.7/site-packages (from comet_ml) (4.13.0)\r\n",
      "Requirement already satisfied: jsonschema!=3.1.0,>=2.6.0 in /opt/conda/lib/python3.7/site-packages (from comet_ml) (4.6.1)\r\n",
      "Requirement already satisfied: requests>=2.18.4 in /opt/conda/lib/python3.7/site-packages (from comet_ml) (2.28.1)\r\n",
      "Requirement already satisfied: websocket-client<1.4.0,>=0.55.0 in /opt/conda/lib/python3.7/site-packages (from comet_ml) (1.3.3)\r\n",
      "Collecting wurlitzer>=1.0.2\r\n",
      "  Downloading wurlitzer-3.0.3-py3-none-any.whl (7.3 kB)\r\n",
      "Collecting everett[ini]>=1.0.1\r\n",
      "  Downloading everett-3.1.0-py2.py3-none-any.whl (35 kB)\r\n",
      "Requirement already satisfied: six in /opt/conda/lib/python3.7/site-packages (from comet_ml) (1.15.0)\r\n",
      "Requirement already satisfied: sentry-sdk>=1.1.0 in /opt/conda/lib/python3.7/site-packages (from comet_ml) (1.12.1)\r\n",
      "Collecting dulwich!=0.20.33,>=0.20.6\r\n",
      "  Downloading dulwich-0.21.2-cp37-cp37m-manylinux_2_17_x86_64.manylinux2014_x86_64.whl (504 kB)\r\n",
      "\u001b[2K     \u001b[90m━━━━━━━━━━━━━━━━━━━━━━━━━━━━━━━━━━━━━━\u001b[0m \u001b[32m504.4/504.4 kB\u001b[0m \u001b[31m15.4 MB/s\u001b[0m eta \u001b[36m0:00:00\u001b[0m\r\n",
      "\u001b[?25hCollecting semantic-version>=2.8.0\r\n",
      "  Downloading semantic_version-2.10.0-py2.py3-none-any.whl (15 kB)\r\n",
      "Collecting requests-toolbelt>=0.8.0\r\n",
      "  Downloading requests_toolbelt-0.10.1-py2.py3-none-any.whl (54 kB)\r\n",
      "\u001b[2K     \u001b[90m━━━━━━━━━━━━━━━━━━━━━━━━━━━━━━━━━━━━━━━━\u001b[0m \u001b[32m54.5/54.5 kB\u001b[0m \u001b[31m5.3 MB/s\u001b[0m eta \u001b[36m0:00:00\u001b[0m\r\n",
      "\u001b[?25hRequirement already satisfied: simplejson in /opt/conda/lib/python3.7/site-packages (from comet_ml) (3.18.1)\r\n",
      "Requirement already satisfied: typing-extensions in /opt/conda/lib/python3.7/site-packages (from dulwich!=0.20.33,>=0.20.6->comet_ml) (4.1.1)\r\n",
      "Requirement already satisfied: urllib3>=1.25 in /opt/conda/lib/python3.7/site-packages (from dulwich!=0.20.33,>=0.20.6->comet_ml) (1.26.13)\r\n",
      "Collecting configobj\r\n",
      "  Downloading configobj-5.0.8-py2.py3-none-any.whl (36 kB)\r\n",
      "Requirement already satisfied: importlib-resources>=1.4.0 in /opt/conda/lib/python3.7/site-packages (from jsonschema!=3.1.0,>=2.6.0->comet_ml) (5.10.2)\r\n",
      "Requirement already satisfied: attrs>=17.4.0 in /opt/conda/lib/python3.7/site-packages (from jsonschema!=3.1.0,>=2.6.0->comet_ml) (21.4.0)\r\n",
      "Requirement already satisfied: pyrsistent!=0.17.0,!=0.17.1,!=0.17.2,>=0.14.0 in /opt/conda/lib/python3.7/site-packages (from jsonschema!=3.1.0,>=2.6.0->comet_ml) (0.18.1)\r\n",
      "Requirement already satisfied: idna<4,>=2.5 in /opt/conda/lib/python3.7/site-packages (from requests>=2.18.4->comet_ml) (3.3)\r\n",
      "Requirement already satisfied: charset-normalizer<3,>=2 in /opt/conda/lib/python3.7/site-packages (from requests>=2.18.4->comet_ml) (2.1.0)\r\n",
      "Requirement already satisfied: certifi>=2017.4.17 in /opt/conda/lib/python3.7/site-packages (from requests>=2.18.4->comet_ml) (2022.12.7)\r\n",
      "Requirement already satisfied: zipp>=0.5 in /opt/conda/lib/python3.7/site-packages (from importlib-metadata->comet_ml) (3.8.0)\r\n",
      "Installing collected packages: everett, wurlitzer, semantic-version, dulwich, configobj, requests-toolbelt, comet_ml\r\n",
      "Successfully installed comet_ml-3.31.23 configobj-5.0.8 dulwich-0.21.2 everett-3.1.0 requests-toolbelt-0.10.1 semantic-version-2.10.0 wurlitzer-3.0.3\r\n",
      "\u001b[33mWARNING: Running pip as the 'root' user can result in broken permissions and conflicting behaviour with the system package manager. It is recommended to use a virtual environment instead: https://pip.pypa.io/warnings/venv\u001b[0m\u001b[33m\r\n",
      "\u001b[0m"
     ]
    },
    {
     "name": "stderr",
     "output_type": "stream",
     "text": [
      "COMET WARNING: As you are running in a Jupyter environment, you will need to call `experiment.end()` when finished to ensure all metrics and code are logged before exiting.\n",
      "COMET INFO: Couldn't find a Git repository in '/kaggle/working' nor in any parent directory. You can override where Comet is looking for a Git Patch by setting the configuration `COMET_GIT_DIRECTORY`\n",
      "COMET INFO: Experiment is live on comet.com https://www.comet.com/tirendaz-test/experiment-tracking-pytorch-3/83e6ea947e674e278d865218ec356b86\n",
      "\n"
     ]
    }
   ],
   "source": [
    "# Installing Comet\n",
    "!pip install comet_ml\n",
    "\n",
    "import comet_ml\n",
    "import torch\n",
    "import torch.nn as nn\n",
    "import torch.nn.functional as F\n",
    "from torch.utils.data import DataLoader\n",
    "from torchvision import datasets, transforms\n",
    "\n",
    "from tqdm import tqdm\n",
    "\n",
    "# Setup device-agnostic code\n",
    "device = \"cuda\" if torch.cuda.is_available() else \"cpu\"\n",
    "\n",
    "from kaggle_secrets import UserSecretsClient\n",
    "user_secrets = UserSecretsClient()\n",
    "my_api_key = user_secrets.get_secret(\"COMET_API_KEY\")\n",
    "\n",
    "## import comet_ml at the top of your file\n",
    "from comet_ml import Experiment\n",
    "\n",
    "## Create an experiment with your api key\n",
    "experiment = Experiment(\n",
    "    api_key= my_api_key,\n",
    "    project_name=\"experiment-tracking-pytorch-3\",\n",
    "    workspace=\"tirendaz-test\",\n",
    ")\n",
    "\n",
    "hyper_params = {\"batch_size\": 32, \"num_epochs\": 5, \"learning_rate\": 0.001,\"hidden_unit\": 128, \"image_size\": 128}\n",
    "experiment.log_parameters(hyper_params)"
   ]
  },
  {
   "cell_type": "code",
   "execution_count": 2,
   "id": "4bca5134",
   "metadata": {
    "execution": {
     "iopub.execute_input": "2023-01-23T08:38:03.598803Z",
     "iopub.status.busy": "2023-01-23T08:38:03.598277Z",
     "iopub.status.idle": "2023-01-23T08:38:04.289595Z",
     "shell.execute_reply": "2023-01-23T08:38:04.288471Z"
    },
    "id": "Dh5tUEeY-sWk",
    "outputId": "dd5445b2-7fb3-4d66-cef5-8476ad7af591",
    "papermill": {
     "duration": 0.705361,
     "end_time": "2023-01-23T08:38:04.292614",
     "exception": false,
     "start_time": "2023-01-23T08:38:03.587253",
     "status": "completed"
    },
    "tags": []
   },
   "outputs": [
    {
     "name": "stdout",
     "output_type": "stream",
     "text": [
      "Random image path: /kaggle/input/cat-and-dog/test_set/test_set/cats/cat.4202.jpg\n",
      "Image class: cats\n",
      "Image height: 217\n",
      "Image width: 179\n"
     ]
    },
    {
     "data": {
      "image/png": "[encoded data removed]",
      "text/plain": [
       "<PIL.JpegImagePlugin.JpegImageFile image mode=RGB size=179x217>"
      ]
     },
     "execution_count": 2,
     "metadata": {},
     "output_type": "execute_result"
    }
   ],
   "source": [
    "import random\n",
    "from PIL import Image\n",
    "import glob\n",
    "from pathlib import Path\n",
    "\n",
    "image_path = \"/kaggle/input/cat-and-dog\"\n",
    "train_dir = f\"{image_path}/training_set/training_set\"\n",
    "test_dir = f\"{image_path}/test_set/test_set\"\n",
    "\n",
    "# Set seed\n",
    "random.seed(42) # <- try changing this and see what happens\n",
    "\n",
    "# 1. Get all image paths (* means \"any combination\")\n",
    "image_path_list= glob.glob(f\"{image_path}/*/*/*/*.jpg\")\n",
    "\n",
    "# 2. Get random image path\n",
    "random_image_path = random.choice(image_path_list)\n",
    "\n",
    "# 3. Get image class from path name (the image class is the name of the directory where the image is stored)\n",
    "image_class = Path(random_image_path).parent.stem\n",
    "\n",
    "# 4. Open image\n",
    "img = Image.open(random_image_path)\n",
    "\n",
    "# 5. Print metadata\n",
    "print(f\"Random image path: {random_image_path}\")\n",
    "print(f\"Image class: {image_class}\")\n",
    "print(f\"Image height: {img.height}\") \n",
    "print(f\"Image width: {img.width}\")\n",
    "img"
   ]
  },
  {
   "cell_type": "code",
   "execution_count": 3,
   "id": "e51644a6",
   "metadata": {
    "execution": {
     "iopub.execute_input": "2023-01-23T08:38:04.314933Z",
     "iopub.status.busy": "2023-01-23T08:38:04.314487Z",
     "iopub.status.idle": "2023-01-23T08:38:04.325640Z",
     "shell.execute_reply": "2023-01-23T08:38:04.324817Z"
    },
    "id": "RY-UzszvKrKW",
    "papermill": {
     "duration": 0.024181,
     "end_time": "2023-01-23T08:38:04.328129",
     "exception": false,
     "start_time": "2023-01-23T08:38:04.303948",
     "status": "completed"
    },
    "tags": []
   },
   "outputs": [],
   "source": [
    "IMAGE_WIDTH=hyper_params['image_size']\n",
    "IMAGE_HEIGHT=hyper_params['image_size']\n",
    "IMAGE_SIZE=(IMAGE_WIDTH, IMAGE_HEIGHT)\n",
    "\n",
    "# Create training transform with TrivialAugment\n",
    "train_transform = transforms.Compose([\n",
    "    transforms.Resize(IMAGE_SIZE),\n",
    "    transforms.TrivialAugmentWide(num_magnitude_bins=31),\n",
    "    transforms.ToTensor(),\n",
    "     transforms.Normalize(\n",
    "         [0.485, 0.456,0.406],  \n",
    "         [0.229, 0.224, 0.225])  \n",
    "])\n",
    "\n",
    "# Create testing transform (no data augmentation)\n",
    "test_transform = transforms.Compose([\n",
    "    transforms.Resize(IMAGE_SIZE),\n",
    "    transforms.ToTensor(),\n",
    "    transforms.Normalize(\n",
    "         [0.485, 0.456,0.406],  \n",
    "         [0.229, 0.224, 0.225])  \n",
    "])"
   ]
  },
  {
   "cell_type": "code",
   "execution_count": 4,
   "id": "c15171c8",
   "metadata": {
    "execution": {
     "iopub.execute_input": "2023-01-23T08:38:04.356491Z",
     "iopub.status.busy": "2023-01-23T08:38:04.356072Z",
     "iopub.status.idle": "2023-01-23T08:38:06.527110Z",
     "shell.execute_reply": "2023-01-23T08:38:06.526072Z"
    },
    "id": "O_rQ4PllMe04",
    "outputId": "2a3ffefc-d582-4f28-b33d-2a0c2958db8d",
    "papermill": {
     "duration": 2.189,
     "end_time": "2023-01-23T08:38:06.530274",
     "exception": false,
     "start_time": "2023-01-23T08:38:04.341274",
     "status": "completed"
    },
    "tags": []
   },
   "outputs": [],
   "source": [
    "import os\n",
    "\n",
    "# Turn image folders into Datasets\n",
    "train_data= datasets.ImageFolder(train_dir, transform=train_transform)\n",
    "test_data = datasets.ImageFolder(test_dir, transform=test_transform)\n",
    "\n",
    "NUM_WORKERS = os.cpu_count()\n",
    "torch.manual_seed(42)\n",
    "\n",
    "train_dataloader = DataLoader(train_data,\n",
    "                              batch_size=hyper_params['batch_size'], \n",
    "                              shuffle=True,\n",
    "                              num_workers=NUM_WORKERS)\n",
    "\n",
    "test_dataloader = DataLoader(test_data, \n",
    "                             batch_size=hyper_params['batch_size'], \n",
    "                             shuffle=False, \n",
    "                             num_workers=NUM_WORKERS)"
   ]
  },
  {
   "cell_type": "code",
   "execution_count": 5,
   "id": "1f2da4d9",
   "metadata": {
    "execution": {
     "iopub.execute_input": "2023-01-23T08:38:06.551339Z",
     "iopub.status.busy": "2023-01-23T08:38:06.550859Z",
     "iopub.status.idle": "2023-01-23T08:38:10.534816Z",
     "shell.execute_reply": "2023-01-23T08:38:10.533736Z"
    },
    "id": "j99yPcDCtnPG",
    "outputId": "45bba9bf-3063-4ab7-c820-8b95a351b6e8",
    "papermill": {
     "duration": 3.998051,
     "end_time": "2023-01-23T08:38:10.538135",
     "exception": false,
     "start_time": "2023-01-23T08:38:06.540084",
     "status": "completed"
    },
    "tags": []
   },
   "outputs": [],
   "source": [
    "class CNNImageClassifier(nn.Module):\n",
    "\n",
    "    def __init__(self, input_shape: int, hidden_units: int, output_shape: int) -> None:\n",
    "        super().__init__()\n",
    "        self.conv_layer_1 = nn.Sequential(\n",
    "          nn.Conv2d(input_shape, hidden_units, kernel_size=3, padding=1),\n",
    "          nn.ReLU(),\n",
    "          nn.BatchNorm2d(hidden_units),\n",
    "          nn.MaxPool2d(2)\n",
    "          ) \n",
    "        self.conv_layer_2 = nn.Sequential(\n",
    "          nn.Conv2d(hidden_units, hidden_units, kernel_size=3, padding=1),\n",
    "          nn.ReLU(),\n",
    "          nn.BatchNorm2d(hidden_units),\n",
    "          nn.MaxPool2d(2)\n",
    "          ) \n",
    "        self.classifier = nn.Sequential(\n",
    "            nn.Flatten(),\n",
    "            nn.Linear(in_features=hidden_units*4*4, out_features=output_shape)\n",
    "        )\n",
    "\n",
    "    def forward(self, x: torch.Tensor):\n",
    "        x = self.conv_layer_1(x)\n",
    "        #print(x.shape)\n",
    "        x = self.conv_layer_2(x)\n",
    "        #print(x.shape)\n",
    "        x = self.conv_layer_2(x)\n",
    "        #print(x.shape)\n",
    "        x = self.conv_layer_2(x)\n",
    "        #print(x.shape)\n",
    "        x = self.conv_layer_2(x)\n",
    "        #print(x.shape)\n",
    "        x = self.classifier(x)\n",
    "        #print(x.shape)\n",
    "        return x\n",
    "\n",
    "torch.manual_seed(42)\n",
    "model = CNNImageClassifier(input_shape=3, # number of color channels (3 for RGB) \n",
    "                  hidden_units=hyper_params['hidden_unit'], \n",
    "                  output_shape=len(train_data.classes)).to(device)"
   ]
  },
  {
   "cell_type": "code",
   "execution_count": 6,
   "id": "8d52f695",
   "metadata": {
    "execution": {
     "iopub.execute_input": "2023-01-23T08:38:10.558959Z",
     "iopub.status.busy": "2023-01-23T08:38:10.558583Z",
     "iopub.status.idle": "2023-01-23T08:38:34.274409Z",
     "shell.execute_reply": "2023-01-23T08:38:34.273284Z"
    },
    "id": "iDdzcRfVRP2a",
    "outputId": "078bff53-f872-4aff-bdbf-de6487d7fd4a",
    "papermill": {
     "duration": 23.729058,
     "end_time": "2023-01-23T08:38:34.277300",
     "exception": false,
     "start_time": "2023-01-23T08:38:10.548242",
     "status": "completed"
    },
    "tags": []
   },
   "outputs": [
    {
     "name": "stdout",
     "output_type": "stream",
     "text": [
      "Collecting torchinfo\r\n",
      "  Downloading torchinfo-1.7.1-py3-none-any.whl (22 kB)\r\n",
      "Installing collected packages: torchinfo\r\n",
      "Successfully installed torchinfo-1.7.1\r\n",
      "\u001b[33mWARNING: Running pip as the 'root' user can result in broken permissions and conflicting behaviour with the system package manager. It is recommended to use a virtual environment instead: https://pip.pypa.io/warnings/venv\u001b[0m\u001b[33m\r\n",
      "\u001b[0m"
     ]
    },
    {
     "data": {
      "text/plain": [
       "==========================================================================================\n",
       "Layer (type:depth-idx)                   Output Shape              Param #\n",
       "==========================================================================================\n",
       "CNNImageClassifier                       [1, 2]                    --\n",
       "├─Sequential: 1-1                        [1, 128, 64, 64]          --\n",
       "│    └─Conv2d: 2-1                       [1, 128, 128, 128]        3,584\n",
       "│    └─ReLU: 2-2                         [1, 128, 128, 128]        --\n",
       "│    └─BatchNorm2d: 2-3                  [1, 128, 128, 128]        256\n",
       "│    └─MaxPool2d: 2-4                    [1, 128, 64, 64]          --\n",
       "├─Sequential: 1-2                        [1, 128, 32, 32]          --\n",
       "│    └─Conv2d: 2-5                       [1, 128, 64, 64]          147,584\n",
       "│    └─ReLU: 2-6                         [1, 128, 64, 64]          --\n",
       "│    └─BatchNorm2d: 2-7                  [1, 128, 64, 64]          256\n",
       "│    └─MaxPool2d: 2-8                    [1, 128, 32, 32]          --\n",
       "├─Sequential: 1-3                        [1, 128, 16, 16]          (recursive)\n",
       "│    └─Conv2d: 2-9                       [1, 128, 32, 32]          (recursive)\n",
       "│    └─ReLU: 2-10                        [1, 128, 32, 32]          --\n",
       "│    └─BatchNorm2d: 2-11                 [1, 128, 32, 32]          (recursive)\n",
       "│    └─MaxPool2d: 2-12                   [1, 128, 16, 16]          --\n",
       "├─Sequential: 1-4                        [1, 128, 8, 8]            (recursive)\n",
       "│    └─Conv2d: 2-13                      [1, 128, 16, 16]          (recursive)\n",
       "│    └─ReLU: 2-14                        [1, 128, 16, 16]          --\n",
       "│    └─BatchNorm2d: 2-15                 [1, 128, 16, 16]          (recursive)\n",
       "│    └─MaxPool2d: 2-16                   [1, 128, 8, 8]            --\n",
       "├─Sequential: 1-5                        [1, 128, 4, 4]            (recursive)\n",
       "│    └─Conv2d: 2-17                      [1, 128, 8, 8]            (recursive)\n",
       "│    └─ReLU: 2-18                        [1, 128, 8, 8]            --\n",
       "│    └─BatchNorm2d: 2-19                 [1, 128, 8, 8]            (recursive)\n",
       "│    └─MaxPool2d: 2-20                   [1, 128, 4, 4]            --\n",
       "├─Sequential: 1-6                        [1, 2]                    --\n",
       "│    └─Flatten: 2-21                     [1, 2048]                 --\n",
       "│    └─Linear: 2-22                      [1, 2]                    4,098\n",
       "==========================================================================================\n",
       "Total params: 155,778\n",
       "Trainable params: 155,778\n",
       "Non-trainable params: 0\n",
       "Total mult-adds (M): 861.58\n",
       "==========================================================================================\n",
       "Input size (MB): 0.20\n",
       "Forward/backward pass size (MB): 41.94\n",
       "Params size (MB): 0.62\n",
       "Estimated Total Size (MB): 42.76\n",
       "=========================================================================================="
      ]
     },
     "execution_count": 6,
     "metadata": {},
     "output_type": "execute_result"
    }
   ],
   "source": [
    "# Install torchinfo if it's not available, import it if it is\n",
    "try: \n",
    "    import torchinfo\n",
    "except:\n",
    "    !pip install torchinfo\n",
    "    import torchinfo\n",
    "    \n",
    "from torchinfo import summary\n",
    "\n",
    "# do a test pass through of an example input size \n",
    "summary(model, input_size=[1, 3, IMAGE_WIDTH ,IMAGE_HEIGHT]) "
   ]
  },
  {
   "cell_type": "code",
   "execution_count": 7,
   "id": "07d797f3",
   "metadata": {
    "execution": {
     "iopub.execute_input": "2023-01-23T08:38:34.300054Z",
     "iopub.status.busy": "2023-01-23T08:38:34.299696Z",
     "iopub.status.idle": "2023-01-23T08:38:34.312816Z",
     "shell.execute_reply": "2023-01-23T08:38:34.311906Z"
    },
    "id": "K0cOVqstRwCZ",
    "papermill": {
     "duration": 0.027044,
     "end_time": "2023-01-23T08:38:34.315465",
     "exception": false,
     "start_time": "2023-01-23T08:38:34.288421",
     "status": "completed"
    },
    "tags": []
   },
   "outputs": [],
   "source": [
    "def train_step(model: torch.nn.Module, \n",
    "               dataloader: torch.utils.data.DataLoader, \n",
    "               loss_fn: torch.nn.Module, \n",
    "               optimizer: torch.optim.Optimizer):\n",
    "    # Put model in train mode\n",
    "    model.train()\n",
    "    \n",
    "    # Setup train loss and train accuracy values\n",
    "    train_loss, train_acc = 0, 0\n",
    "    \n",
    "    # Loop through data loader data batches\n",
    "    for batch, (X, y) in enumerate(dataloader):\n",
    "        # Send data to target device\n",
    "        X, y = X.to(device), y.to(device)\n",
    "\n",
    "        # 1. Forward pass\n",
    "        y_pred = model(X)\n",
    "\n",
    "        # 2. Calculate  and accumulate loss\n",
    "        loss = loss_fn(y_pred, y)\n",
    "        train_loss += loss.item() \n",
    "\n",
    "        # 3. Optimizer zero grad\n",
    "        optimizer.zero_grad()\n",
    "\n",
    "        # 4. Loss backward\n",
    "        loss.backward()\n",
    "\n",
    "        # 5. Optimizer step\n",
    "        optimizer.step()\n",
    "\n",
    "        # Calculate and accumulate accuracy metric across all batches\n",
    "        y_pred_class = torch.argmax(torch.softmax(y_pred, dim=1), dim=1)\n",
    "        train_acc += (y_pred_class == y).sum().item()/len(y_pred)\n",
    "\n",
    "    # Adjust metrics to get average loss and accuracy per batch \n",
    "    train_loss = train_loss / len(dataloader)\n",
    "    train_acc = train_acc / len(dataloader)\n",
    "    \n",
    "    experiment.log_metrics({\"train_accuracy\": train_acc, \"train_loss\": train_loss}, epoch=hyper_params['num_epochs'])\n",
    "    return train_loss, train_acc"
   ]
  },
  {
   "cell_type": "code",
   "execution_count": 8,
   "id": "ad623e83",
   "metadata": {
    "execution": {
     "iopub.execute_input": "2023-01-23T08:38:34.349457Z",
     "iopub.status.busy": "2023-01-23T08:38:34.349043Z",
     "iopub.status.idle": "2023-01-23T08:38:34.367087Z",
     "shell.execute_reply": "2023-01-23T08:38:34.365128Z"
    },
    "id": "lAxEiSgWS3rv",
    "papermill": {
     "duration": 0.044766,
     "end_time": "2023-01-23T08:38:34.373868",
     "exception": false,
     "start_time": "2023-01-23T08:38:34.329102",
     "status": "completed"
    },
    "tags": []
   },
   "outputs": [],
   "source": [
    "def test_step(model: torch.nn.Module, \n",
    "              dataloader: torch.utils.data.DataLoader, \n",
    "              loss_fn: torch.nn.Module):\n",
    "    # Put model in eval mode\n",
    "    model.eval() \n",
    "    \n",
    "    # Setup test loss and test accuracy values\n",
    "    test_loss, test_acc = 0, 0\n",
    "    \n",
    "    # Turn on inference context manager\n",
    "    with torch.inference_mode():\n",
    "        # Loop through DataLoader batches\n",
    "        for batch, (X, y) in enumerate(dataloader):\n",
    "            # Send data to target device\n",
    "            X, y = X.to(device), y.to(device)\n",
    "    \n",
    "            # 1. Forward pass\n",
    "            test_pred_logits = model(X)\n",
    "\n",
    "            # 2. Calculate and accumulate loss\n",
    "            loss = loss_fn(test_pred_logits, y)\n",
    "            test_loss += loss.item()\n",
    "            \n",
    "            # Calculate and accumulate accuracy\n",
    "            test_pred_labels = test_pred_logits.argmax(dim=1)\n",
    "            test_acc += ((test_pred_labels == y).sum().item()/len(test_pred_labels))\n",
    "            \n",
    "    # Adjust metrics to get average loss and accuracy per batch \n",
    "    test_loss = test_loss / len(dataloader)\n",
    "    test_acc = test_acc / len(dataloader)\n",
    "    \n",
    "    experiment.log_metrics({\"test_accuracy\": test_acc, \"test_loss\": test_loss}, epoch=hyper_params['num_epochs'])\n",
    "    return test_loss, test_acc"
   ]
  },
  {
   "cell_type": "code",
   "execution_count": 9,
   "id": "ec4d6e7a",
   "metadata": {
    "execution": {
     "iopub.execute_input": "2023-01-23T08:38:34.411612Z",
     "iopub.status.busy": "2023-01-23T08:38:34.411241Z",
     "iopub.status.idle": "2023-01-23T08:38:34.423494Z",
     "shell.execute_reply": "2023-01-23T08:38:34.422425Z"
    },
    "id": "uhTD1INIS_UA",
    "papermill": {
     "duration": 0.036614,
     "end_time": "2023-01-23T08:38:34.426308",
     "exception": false,
     "start_time": "2023-01-23T08:38:34.389694",
     "status": "completed"
    },
    "tags": []
   },
   "outputs": [],
   "source": [
    "from tqdm.auto import tqdm\n",
    "\n",
    "# 1. Take in various parameters required for training and test steps\n",
    "def train(model: torch.nn.Module, \n",
    "          train_dataloader: torch.utils.data.DataLoader, \n",
    "          test_dataloader: torch.utils.data.DataLoader, \n",
    "          optimizer: torch.optim.Optimizer,\n",
    "          loss_fn: torch.nn.Module = nn.CrossEntropyLoss(),\n",
    "          epochs: int = 5):\n",
    "    \n",
    "    # 2. Create empty results dictionary\n",
    "    results = {\"train_loss\": [],\n",
    "               \"train_acc\": [],\n",
    "               \"test_loss\": [],\n",
    "               \"test_acc\": []\n",
    "    }\n",
    "    \n",
    "    # 3. Loop through training and testing steps for a number of epochs\n",
    "    for epoch in tqdm(range(hyper_params['num_epochs'])):\n",
    "        train_loss, train_acc = train_step(model=model,\n",
    "                                           dataloader=train_dataloader,\n",
    "                                           loss_fn=loss_fn,\n",
    "                                           optimizer=optimizer)\n",
    "        test_loss, test_acc = test_step(model=model,\n",
    "                                        dataloader=test_dataloader,\n",
    "                                        loss_fn=loss_fn)\n",
    "\n",
    "        # 4. Print out what's happening\n",
    "        print(\n",
    "            f\"Epoch: {epoch+1} | \"\n",
    "            f\"train_loss: {train_loss:.4f} | \"\n",
    "            f\"train_acc: {train_acc:.4f} | \"\n",
    "            f\"test_loss: {test_loss:.4f} | \"\n",
    "            f\"test_acc: {test_acc:.4f}\"\n",
    "        )\n",
    "\n",
    "        # 5. Update results dictionary\n",
    "        results[\"train_loss\"].append(train_loss)\n",
    "        results[\"train_acc\"].append(train_acc)\n",
    "        results[\"test_loss\"].append(test_loss)\n",
    "        results[\"test_acc\"].append(test_acc)\n",
    "\n",
    "    # 6. Return the filled results at the end of the epochs\n",
    "    return results"
   ]
  },
  {
   "cell_type": "code",
   "execution_count": 10,
   "id": "ea15f128",
   "metadata": {
    "execution": {
     "iopub.execute_input": "2023-01-23T08:38:34.449120Z",
     "iopub.status.busy": "2023-01-23T08:38:34.448747Z",
     "iopub.status.idle": "2023-01-23T08:43:38.310439Z",
     "shell.execute_reply": "2023-01-23T08:43:38.309318Z"
    },
    "id": "n8K6e7DeTShp",
    "outputId": "af4f43fc-5a21-4214-e655-91b99396e153",
    "papermill": {
     "duration": 303.885264,
     "end_time": "2023-01-23T08:43:38.321770",
     "exception": false,
     "start_time": "2023-01-23T08:38:34.436506",
     "status": "completed"
    },
    "tags": []
   },
   "outputs": [
    {
     "data": {
      "application/vnd.jupyter.widget-view+json": {
       "model_id": "d7af67d611b446a489ea32ab819b89b0",
       "version_major": 2,
       "version_minor": 0
      },
      "text/plain": [
       "  0%|          | 0/5 [00:00<?, ?it/s]"
      ]
     },
     "metadata": {},
     "output_type": "display_data"
    },
    {
     "name": "stdout",
     "output_type": "stream",
     "text": [
      "Epoch: 1 | train_loss: 0.7667 | train_acc: 0.5941 | test_loss: 0.6083 | test_acc: 0.6676\n",
      "Epoch: 2 | train_loss: 0.6821 | train_acc: 0.6415 | test_loss: 0.6603 | test_acc: 0.6651\n",
      "Epoch: 3 | train_loss: 0.6284 | train_acc: 0.6740 | test_loss: 0.5493 | test_acc: 0.7196\n",
      "Epoch: 4 | train_loss: 0.5973 | train_acc: 0.6933 | test_loss: 0.6107 | test_acc: 0.7093\n",
      "Epoch: 5 | train_loss: 0.5553 | train_acc: 0.7284 | test_loss: 0.4845 | test_acc: 0.7706\n",
      "Total training time: 303.850 seconds\n"
     ]
    }
   ],
   "source": [
    "# Set random seeds\n",
    "torch.manual_seed(42) \n",
    "torch.cuda.manual_seed(42)\n",
    "\n",
    "# Setup loss function and optimizer\n",
    "loss_fn = nn.CrossEntropyLoss()\n",
    "optimizer = torch.optim.Adam(params=model.parameters(), \n",
    "                             lr=hyper_params['learning_rate'])\n",
    "\n",
    "# Start the timer\n",
    "from timeit import default_timer as timer \n",
    "start_time = timer()\n",
    "\n",
    "# Train model\n",
    "model_results = train(model=model,\n",
    "                      train_dataloader=train_dataloader,\n",
    "                      test_dataloader=test_dataloader,\n",
    "                      optimizer=optimizer,\n",
    "                      loss_fn=loss_fn, \n",
    "                      epochs=hyper_params['num_epochs'])\n",
    "\n",
    "# End the timer and print out how long it took\n",
    "end_time = timer()\n",
    "print(f\"Total training time: {end_time-start_time:.3f} seconds\")"
   ]
  },
  {
   "cell_type": "code",
   "execution_count": 11,
   "id": "75ba0d6a",
   "metadata": {
    "execution": {
     "iopub.execute_input": "2023-01-23T08:43:38.338028Z",
     "iopub.status.busy": "2023-01-23T08:43:38.336995Z",
     "iopub.status.idle": "2023-01-23T08:43:39.766892Z",
     "shell.execute_reply": "2023-01-23T08:43:39.765851Z"
    },
    "id": "WevAWGI_kLf4",
    "papermill": {
     "duration": 1.440624,
     "end_time": "2023-01-23T08:43:39.769363",
     "exception": false,
     "start_time": "2023-01-23T08:43:38.328739",
     "status": "completed"
    },
    "tags": []
   },
   "outputs": [
    {
     "data": {
      "image/png": "[encoded data removed]",
      "text/plain": [
       "<Figure size 1080x504 with 2 Axes>"
      ]
     },
     "metadata": {},
     "output_type": "display_data"
    }
   ],
   "source": [
    "import matplotlib.pyplot as plt\n",
    "import seaborn as sns\n",
    "sns.set_theme()\n",
    "def plot_loss_curves(results):\n",
    "  \n",
    "    results = dict(list(model_results.items()))\n",
    "    # Get the loss values of the results dictionary (training and test)\n",
    "    loss = results['train_loss']\n",
    "    test_loss = results['test_loss']\n",
    "\n",
    "    # Get the accuracy values of the results dictionary (training and test)\n",
    "    accuracy = results['train_acc']\n",
    "    test_accuracy = results['test_acc']\n",
    "\n",
    "    # Figure out how many epochs there were\n",
    "    epochs = range(len(results['train_loss']))\n",
    "\n",
    "    # Setup a plot \n",
    "    plt.figure(figsize=(15, 7))\n",
    "\n",
    "    # Plot loss\n",
    "    plt.subplot(1, 2, 1)\n",
    "    plt.plot(epochs, loss, label='train_loss')\n",
    "    plt.plot(epochs, test_loss, label='test_loss')\n",
    "    plt.title('Loss')\n",
    "    plt.xlabel('Epochs')\n",
    "    plt.legend()\n",
    "\n",
    "    # Plot accuracy\n",
    "    plt.subplot(1, 2, 2)\n",
    "    plt.plot(epochs, accuracy, label='train_accuracy')\n",
    "    plt.plot(epochs, test_accuracy, label='test_accuracy')\n",
    "    plt.title('Accuracy')\n",
    "    plt.xlabel('Epochs')\n",
    "    plt.legend();\n",
    "plot_loss_curves(model_results)"
   ]
  },
  {
   "cell_type": "code",
   "execution_count": 12,
   "id": "fe7be963",
   "metadata": {
    "execution": {
     "iopub.execute_input": "2023-01-23T08:43:39.788789Z",
     "iopub.status.busy": "2023-01-23T08:43:39.787076Z",
     "iopub.status.idle": "2023-01-23T08:43:39.819429Z",
     "shell.execute_reply": "2023-01-23T08:43:39.817658Z"
    },
    "papermill": {
     "duration": 0.043355,
     "end_time": "2023-01-23T08:43:39.821368",
     "exception": false,
     "start_time": "2023-01-23T08:43:39.778013",
     "status": "completed"
    },
    "tags": []
   },
   "outputs": [],
   "source": [
    "# Save the model for inference\n",
    "from comet_ml.integration.pytorch import log_model\n",
    "log_model(experiment, model, model_name=\"My_Model\")"
   ]
  },
  {
   "cell_type": "code",
   "execution_count": 13,
   "id": "c9196e26",
   "metadata": {
    "execution": {
     "iopub.execute_input": "2023-01-23T08:43:39.840554Z",
     "iopub.status.busy": "2023-01-23T08:43:39.838952Z",
     "iopub.status.idle": "2023-01-23T08:43:39.869277Z",
     "shell.execute_reply": "2023-01-23T08:43:39.868310Z"
    },
    "id": "c2Cke99ToEZr",
    "outputId": "bc388d6e-6d02-4811-c807-f7fe4036331f",
    "papermill": {
     "duration": 0.042127,
     "end_time": "2023-01-23T08:43:39.871591",
     "exception": false,
     "start_time": "2023-01-23T08:43:39.829464",
     "status": "completed"
    },
    "tags": []
   },
   "outputs": [
    {
     "data": {
      "text/plain": [
       "'dogs'"
      ]
     },
     "execution_count": 13,
     "metadata": {},
     "output_type": "execute_result"
    }
   ],
   "source": [
    "# Choose a image.\n",
    "custom_image_path = \"/kaggle/input/cat-and-dog/test_set/test_set/dogs/dog.4001.jpg\"\n",
    "\n",
    "import torchvision\n",
    "# Load in custom image and convert the tensor values to float32\n",
    "custom_image = torchvision.io.read_image(str(custom_image_path)).type(torch.float32)\n",
    "\n",
    "# Divide the image pixel values by 255 to get them between [0, 1]\n",
    "custom_image = custom_image / 255. \n",
    "\n",
    "custom_image_transform = transforms.Compose([\n",
    "    transforms.Resize(IMAGE_SIZE),\n",
    "])\n",
    "\n",
    "# Transform target image\n",
    "custom_image_transformed = custom_image_transform(custom_image)\n",
    "\n",
    "model.eval()\n",
    "with torch.inference_mode():\n",
    "    # Add an extra dimension to image\n",
    "    custom_image_transformed_with_batch_size = custom_image_transformed.unsqueeze(dim=0)\n",
    "    \n",
    "    # Make a prediction on image with an extra dimension\n",
    "    custom_image_pred = model(custom_image_transformed.unsqueeze(dim=0).to(device))\n",
    "    \n",
    "\n",
    "# Convert logits -> prediction probabilities (using torch.softmax() for multi-class classification)\n",
    "custom_image_pred_probs = torch.softmax(custom_image_pred, dim=1)\n",
    "\n",
    "# Convert prediction probabilities -> prediction labels\n",
    "custom_image_pred_label = torch.argmax(custom_image_pred_probs, dim=1)\n",
    "\n",
    "class_names = train_data.classes\n",
    "custom_image_pred_class = class_names[custom_image_pred_label.cpu()] # put pred label to CPU, otherwise will error\n",
    "custom_image_pred_class"
   ]
  },
  {
   "cell_type": "code",
   "execution_count": 14,
   "id": "e34c2555",
   "metadata": {
    "execution": {
     "iopub.execute_input": "2023-01-23T08:43:39.897568Z",
     "iopub.status.busy": "2023-01-23T08:43:39.896778Z",
     "iopub.status.idle": "2023-01-23T08:43:40.147480Z",
     "shell.execute_reply": "2023-01-23T08:43:40.146426Z"
    },
    "id": "62tSSQHro-_V",
    "outputId": "f44c1e06-cb55-436b-e235-fec914c0d9b9",
    "papermill": {
     "duration": 0.270203,
     "end_time": "2023-01-23T08:43:40.150372",
     "exception": false,
     "start_time": "2023-01-23T08:43:39.880169",
     "status": "completed"
    },
    "tags": []
   },
   "outputs": [
    {
     "data": {
      "image/png": "[encoded data removed]",
      "text/plain": [
       "<Figure size 432x288 with 1 Axes>"
      ]
     },
     "metadata": {},
     "output_type": "display_data"
    }
   ],
   "source": [
    "# Plot custom image\n",
    "plt.imshow(custom_image.permute(1, 2, 0)) # need to permute image dimensions from CHW -> HWC otherwise matplotlib will error\n",
    "plt.title(f\"Image shape: {custom_image.shape}\")\n",
    "plt.axis(False);"
   ]
  },
  {
   "cell_type": "code",
   "execution_count": 15,
   "id": "ec42a516",
   "metadata": {
    "execution": {
     "iopub.execute_input": "2023-01-23T08:43:40.172353Z",
     "iopub.status.busy": "2023-01-23T08:43:40.172058Z",
     "iopub.status.idle": "2023-01-23T08:43:42.572201Z",
     "shell.execute_reply": "2023-01-23T08:43:42.571204Z"
    },
    "papermill": {
     "duration": 2.413613,
     "end_time": "2023-01-23T08:43:42.574770",
     "exception": false,
     "start_time": "2023-01-23T08:43:40.161157",
     "status": "completed"
    },
    "tags": []
   },
   "outputs": [
    {
     "name": "stderr",
     "output_type": "stream",
     "text": [
      "COMET INFO: ---------------------------\n",
      "COMET INFO: Comet.ml Experiment Summary\n",
      "COMET INFO: ---------------------------\n",
      "COMET INFO:   Data:\n",
      "COMET INFO:     display_summary_level : 1\n",
      "COMET INFO:     url                   : https://www.comet.com/tirendaz-test/experiment-tracking-pytorch-3/83e6ea947e674e278d865218ec356b86\n",
      "COMET INFO:   Metrics [count] (min, max):\n",
      "COMET INFO:     loss [126]         : (0.3402763903141022, 1.4224852323532104)\n",
      "COMET INFO:     test_accuracy [5]  : (0.6651088169642857, 0.7706473214285714)\n",
      "COMET INFO:     test_loss [5]      : (0.48446191172115505, 0.6603429233655334)\n",
      "COMET INFO:     train_accuracy [5] : (0.594148406374502, 0.7284113545816734)\n",
      "COMET INFO:     train_loss [5]     : (0.5552971184372427, 0.7666507542608268)\n",
      "COMET INFO:   Parameters:\n",
      "COMET INFO:     batch_size    : 32\n",
      "COMET INFO:     hidden_unit   : 128\n",
      "COMET INFO:     image_size    : 128\n",
      "COMET INFO:     learning_rate : 0.001\n",
      "COMET INFO:     num_epochs    : 5\n",
      "COMET INFO:   Uploads:\n",
      "COMET INFO:     conda-environment-definition : 1\n",
      "COMET INFO:     conda-info                   : 1\n",
      "COMET INFO:     conda-specification          : 1\n",
      "COMET INFO:     environment details          : 1\n",
      "COMET INFO:     filename                     : 1\n",
      "COMET INFO:     installed packages           : 1\n",
      "COMET INFO:     model graph                  : 1\n",
      "COMET INFO:     model-element                : 2 (615.54 KB)\n",
      "COMET INFO:     notebook                     : 1\n",
      "COMET INFO:     os packages                  : 1\n",
      "COMET INFO:     source_code                  : 1\n",
      "COMET INFO: ---------------------------\n",
      "COMET INFO: Uploading metrics, params, and assets to Comet before program termination (may take several seconds)\n",
      "COMET INFO: The Python SDK has 3600 seconds to finish before aborting...\n"
     ]
    }
   ],
   "source": [
    "experiment.end()"
   ]
  },
  {
   "cell_type": "markdown",
   "id": "b94cfaa2",
   "metadata": {
    "papermill": {
     "duration": 0.011506,
     "end_time": "2023-01-23T08:43:42.597693",
     "exception": false,
     "start_time": "2023-01-23T08:43:42.586187",
     "status": "completed"
    },
    "tags": []
   },
   "source": [
    "- Thank you for reading 😀 If you like this notebook, don't forget to upvote it 😊\n",
    "\n",
    "- Let's connect [YouTube](http://youtube.com/tirendazacademy) | [Medium](http://tirendazacademy.medium.com) | [Twitter](http://twitter.com/tirendazacademy) | [Instagram](https://www.instagram.com/tirendazacademy) |[GitHub](http://github.com/tirendazacademy) | [Linkedin](https://www.linkedin.com/in/tirendaz-academy) | [Kaggle](https://www.kaggle.com/tirendazacademy) 😎"
   ]
  }
 ],
 "metadata": {
  "kernelspec": {
   "display_name": "Python 3",
   "language": "python",
   "name": "python3"
  },
  "language_info": {
   "codemirror_mode": {
    "name": "ipython",
    "version": 3
   },
   "file_extension": ".py",
   "mimetype": "text/x-python",
   "name": "python",
   "nbconvert_exporter": "python",
   "pygments_lexer": "ipython3",
   "version": "3.7.12"
  },
  "papermill": {
   "default_parameters": {},
   "duration": 367.636573,
   "end_time": "2023-01-23T08:43:45.203418",
   "environment_variables": {},
   "exception": null,
   "input_path": "__notebook__.ipynb",
   "output_path": "__notebook__.ipynb",
   "parameters": {},
   "start_time": "2023-01-23T08:37:37.566845",
   "version": "2.3.4"
  },
  "widgets": {
   "application/vnd.jupyter.widget-state+json": {
    "state": {
     "0a1cb9aba8324102b3d45fd061be87c5": {
      "model_module": "@jupyter-widgets/controls",
      "model_module_version": "1.5.0",
      "model_name": "ProgressStyleModel",
      "state": {
       "_model_module": "@jupyter-widgets/controls",
       "_model_module_version": "1.5.0",
       "_model_name": "ProgressStyleModel",
       "_view_count": null,
       "_view_module": "@jupyter-widgets/base",
       "_view_module_version": "1.2.0",
       "_view_name": "StyleView",
       "bar_color": null,
       "description_width": ""
      }
     },
     "179e266053b34fad8cbc7f4fe28aceca": {
      "model_module": "@jupyter-widgets/controls",
      "model_module_version": "1.5.0",
      "model_name": "DescriptionStyleModel",
      "state": {
       "_model_module": "@jupyter-widgets/controls",
       "_model_module_version": "1.5.0",
       "_model_name": "DescriptionStyleModel",
       "_view_count": null,
       "_view_module": "@jupyter-widgets/base",
       "_view_module_version": "1.2.0",
       "_view_name": "StyleView",
       "description_width": ""
      }
     },
     "21d7f33dd6ab469ab582c12c5bc0fed2": {
      "model_module": "@jupyter-widgets/controls",
      "model_module_version": "1.5.0",
      "model_name": "FloatProgressModel",
      "state": {
       "_dom_classes": [],
       "_model_module": "@jupyter-widgets/controls",
       "_model_module_version": "1.5.0",
       "_model_name": "FloatProgressModel",
       "_view_count": null,
       "_view_module": "@jupyter-widgets/controls",
       "_view_module_version": "1.5.0",
       "_view_name": "ProgressView",
       "bar_style": "success",
       "description": "",
       "description_tooltip": null,
       "layout": "IPY_MODEL_c888e1c836d046da9877f819ecf677d1",
       "max": 5.0,
       "min": 0.0,
       "orientation": "horizontal",
       "style": "IPY_MODEL_0a1cb9aba8324102b3d45fd061be87c5",
       "value": 5.0
      }
     },
     "281b4088cde943fc894bdcbee842af57": {
      "model_module": "@jupyter-widgets/controls",
      "model_module_version": "1.5.0",
      "model_name": "HTMLModel",
      "state": {
       "_dom_classes": [],
       "_model_module": "@jupyter-widgets/controls",
       "_model_module_version": "1.5.0",
       "_model_name": "HTMLModel",
       "_view_count": null,
       "_view_module": "@jupyter-widgets/controls",
       "_view_module_version": "1.5.0",
       "_view_name": "HTMLView",
       "description": "",
       "description_tooltip": null,
       "layout": "IPY_MODEL_2ff793c1b3f94e1784fa77aaa5fbda7e",
       "placeholder": "​",
       "style": "IPY_MODEL_dbb854a568014fab813faace526775eb",
       "value": "100%"
      }
     },
     "2ff793c1b3f94e1784fa77aaa5fbda7e": {
      "model_module": "@jupyter-widgets/base",
      "model_module_version": "1.2.0",
      "model_name": "LayoutModel",
      "state": {
       "_model_module": "@jupyter-widgets/base",
       "_model_module_version": "1.2.0",
       "_model_name": "LayoutModel",
       "_view_count": null,
       "_view_module": "@jupyter-widgets/base",
       "_view_module_version": "1.2.0",
       "_view_name": "LayoutView",
       "align_content": null,
       "align_items": null,
       "align_self": null,
       "border": null,
       "bottom": null,
       "display": null,
       "flex": null,
       "flex_flow": null,
       "grid_area": null,
       "grid_auto_columns": null,
       "grid_auto_flow": null,
       "grid_auto_rows": null,
       "grid_column": null,
       "grid_gap": null,
       "grid_row": null,
       "grid_template_areas": null,
       "grid_template_columns": null,
       "grid_template_rows": null,
       "height": null,
       "justify_content": null,
       "justify_items": null,
       "left": null,
       "margin": null,
       "max_height": null,
       "max_width": null,
       "min_height": null,
       "min_width": null,
       "object_fit": null,
       "object_position": null,
       "order": null,
       "overflow": null,
       "overflow_x": null,
       "overflow_y": null,
       "padding": null,
       "right": null,
       "top": null,
       "visibility": null,
       "width": null
      }
     },
     "4385668351574dca8f0b480dc9d10aef": {
      "model_module": "@jupyter-widgets/base",
      "model_module_version": "1.2.0",
      "model_name": "LayoutModel",
      "state": {
       "_model_module": "@jupyter-widgets/base",
       "_model_module_version": "1.2.0",
       "_model_name": "LayoutModel",
       "_view_count": null,
       "_view_module": "@jupyter-widgets/base",
       "_view_module_version": "1.2.0",
       "_view_name": "LayoutView",
       "align_content": null,
       "align_items": null,
       "align_self": null,
       "border": null,
       "bottom": null,
       "display": null,
       "flex": null,
       "flex_flow": null,
       "grid_area": null,
       "grid_auto_columns": null,
       "grid_auto_flow": null,
       "grid_auto_rows": null,
       "grid_column": null,
       "grid_gap": null,
       "grid_row": null,
       "grid_template_areas": null,
       "grid_template_columns": null,
       "grid_template_rows": null,
       "height": null,
       "justify_content": null,
       "justify_items": null,
       "left": null,
       "margin": null,
       "max_height": null,
       "max_width": null,
       "min_height": null,
       "min_width": null,
       "object_fit": null,
       "object_position": null,
       "order": null,
       "overflow": null,
       "overflow_x": null,
       "overflow_y": null,
       "padding": null,
       "right": null,
       "top": null,
       "visibility": null,
       "width": null
      }
     },
     "59bd37cbe27a43b19ab3824f7f5ed3e7": {
      "model_module": "@jupyter-widgets/controls",
      "model_module_version": "1.5.0",
      "model_name": "HTMLModel",
      "state": {
       "_dom_classes": [],
       "_model_module": "@jupyter-widgets/controls",
       "_model_module_version": "1.5.0",
       "_model_name": "HTMLModel",
       "_view_count": null,
       "_view_module": "@jupyter-widgets/controls",
       "_view_module_version": "1.5.0",
       "_view_name": "HTMLView",
       "description": "",
       "description_tooltip": null,
       "layout": "IPY_MODEL_8a9addb65692495c99b17310a00548e1",
       "placeholder": "​",
       "style": "IPY_MODEL_179e266053b34fad8cbc7f4fe28aceca",
       "value": " 5/5 [05:03&lt;00:00, 58.20s/it]"
      }
     },
     "8a9addb65692495c99b17310a00548e1": {
      "model_module": "@jupyter-widgets/base",
      "model_module_version": "1.2.0",
      "model_name": "LayoutModel",
      "state": {
       "_model_module": "@jupyter-widgets/base",
       "_model_module_version": "1.2.0",
       "_model_name": "LayoutModel",
       "_view_count": null,
       "_view_module": "@jupyter-widgets/base",
       "_view_module_version": "1.2.0",
       "_view_name": "LayoutView",
       "align_content": null,
       "align_items": null,
       "align_self": null,
       "border": null,
       "bottom": null,
       "display": null,
       "flex": null,
       "flex_flow": null,
       "grid_area": null,
       "grid_auto_columns": null,
       "grid_auto_flow": null,
       "grid_auto_rows": null,
       "grid_column": null,
       "grid_gap": null,
       "grid_row": null,
       "grid_template_areas": null,
       "grid_template_columns": null,
       "grid_template_rows": null,
       "height": null,
       "justify_content": null,
       "justify_items": null,
       "left": null,
       "margin": null,
       "max_height": null,
       "max_width": null,
       "min_height": null,
       "min_width": null,
       "object_fit": null,
       "object_position": null,
       "order": null,
       "overflow": null,
       "overflow_x": null,
       "overflow_y": null,
       "padding": null,
       "right": null,
       "top": null,
       "visibility": null,
       "width": null
      }
     },
     "c888e1c836d046da9877f819ecf677d1": {
      "model_module": "@jupyter-widgets/base",
      "model_module_version": "1.2.0",
      "model_name": "LayoutModel",
      "state": {
       "_model_module": "@jupyter-widgets/base",
       "_model_module_version": "1.2.0",
       "_model_name": "LayoutModel",
       "_view_count": null,
       "_view_module": "@jupyter-widgets/base",
       "_view_module_version": "1.2.0",
       "_view_name": "LayoutView",
       "align_content": null,
       "align_items": null,
       "align_self": null,
       "border": null,
       "bottom": null,
       "display": null,
       "flex": null,
       "flex_flow": null,
       "grid_area": null,
       "grid_auto_columns": null,
       "grid_auto_flow": null,
       "grid_auto_rows": null,
       "grid_column": null,
       "grid_gap": null,
       "grid_row": null,
       "grid_template_areas": null,
       "grid_template_columns": null,
       "grid_template_rows": null,
       "height": null,
       "justify_content": null,
       "justify_items": null,
       "left": null,
       "margin": null,
       "max_height": null,
       "max_width": null,
       "min_height": null,
       "min_width": null,
       "object_fit": null,
       "object_position": null,
       "order": null,
       "overflow": null,
       "overflow_x": null,
       "overflow_y": null,
       "padding": null,
       "right": null,
       "top": null,
       "visibility": null,
       "width": null
      }
     },
     "d7af67d611b446a489ea32ab819b89b0": {
      "model_module": "@jupyter-widgets/controls",
      "model_module_version": "1.5.0",
      "model_name": "HBoxModel",
      "state": {
       "_dom_classes": [],
       "_model_module": "@jupyter-widgets/controls",
       "_model_module_version": "1.5.0",
       "_model_name": "HBoxModel",
       "_view_count": null,
       "_view_module": "@jupyter-widgets/controls",
       "_view_module_version": "1.5.0",
       "_view_name": "HBoxView",
       "box_style": "",
       "children": [
        "IPY_MODEL_281b4088cde943fc894bdcbee842af57",
        "IPY_MODEL_21d7f33dd6ab469ab582c12c5bc0fed2",
        "IPY_MODEL_59bd37cbe27a43b19ab3824f7f5ed3e7"
       ],
       "layout": "IPY_MODEL_4385668351574dca8f0b480dc9d10aef"
      }
     },
     "dbb854a568014fab813faace526775eb": {
      "model_module": "@jupyter-widgets/controls",
      "model_module_version": "1.5.0",
      "model_name": "DescriptionStyleModel",
      "state": {
       "_model_module": "@jupyter-widgets/controls",
       "_model_module_version": "1.5.0",
       "_model_name": "DescriptionStyleModel",
       "_view_count": null,
       "_view_module": "@jupyter-widgets/base",
       "_view_module_version": "1.2.0",
       "_view_name": "StyleView",
       "description_width": ""
      }
     }
    },
    "version_major": 2,
    "version_minor": 0
   }
  }
 },
 "nbformat": 4,
 "nbformat_minor": 5
}
