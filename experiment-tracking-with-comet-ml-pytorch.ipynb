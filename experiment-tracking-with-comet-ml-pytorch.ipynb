{
 "cells": [
  {
   "cell_type": "markdown",
   "id": "c729e6cb",
   "metadata": {
    "papermill": {
     "duration": 0.014125,
     "end_time": "2023-01-26T10:19:23.398353",
     "exception": false,
     "start_time": "2023-01-26T10:19:23.384228",
     "status": "completed"
    },
    "tags": []
   },
   "source": [
    "# <p style=\"background-color:coral;font-family:newtimeroman;font-size:150%;color:white;text-align:center;border-radius:20px 20px;\"><b>Intro to MLOps: Experiment Tracking with Comet ML & Pytorch</b></p>\n",
    "\n",
    "![](https://github.com/TirendazAcademy/End-to-End-Deep-Learning-Projects/blob/main/image_classification_pytorch_comet/Images/images/dog-cat.png?raw=true)\n",
    "\n",
    "\n",
    "This notebook walks you through how to build a CNN model for image classification with PyTorch and track an experiment with Comet.\n",
    "\n",
    "<b>*Table of contents:*</b>\n",
    "<ul>\n",
    "<li><a href=\"#Introduction\">Introduction</a></li>  \n",
    "<li><a href=\"#Understanding\">Understanding the dataset</a></li>         \n",
    "<li><a href=\"#Loading-image-data\">Loading image data</a></li>\n",
    "<li><a href=\"#Building\">Model building</a></li>\n",
    "<li><a href=\"#Prediction\">Make a prediction</a></li>\n",
    "<li><a href=\"#Conclusion\">Conclusion</a></li>\n",
    "</ul>\n",
    "\n",
    "Let's dive in!"
   ]
  },
  {
   "cell_type": "markdown",
   "id": "67e075c2",
   "metadata": {
    "id": "SdTJCw2kEYOW",
    "papermill": {
     "duration": 0.024947,
     "end_time": "2023-01-26T10:19:23.441629",
     "exception": false,
     "start_time": "2023-01-26T10:19:23.416682",
     "status": "completed"
    },
    "tags": []
   },
   "source": [
    "<a id=\"Introduction\"></a>\n",
    "# <p style=\"background-color:coral;font-family:newtimeroman;font-size:150%;color:white;text-align:center;border-radius:20px 20px;\"><b>1. Introduction</b></p>\n",
    "\n",
    "Before I start the analysis, let me explain what Pytorch and Comet are.\n",
    "\n",
    "## What is Pytorch?\n",
    "\n",
    "![](https://github.com/TirendazAcademy/End-to-End-Deep-Learning-Projects/blob/main/image_classification_pytorch_comet/Images/images/pytroch_features.png?raw=true)\n",
    "\n",
    "PyTorch is a machine learning framework based on the Torch library,used for applications such as computer vision and natural language processing,originally developed by Meta AI and now part of the Linux Foundation umbrella. PyTorch is a great choice for deep learning projects because of its flexibility, ease of use, and strong community support.\n",
    "\n",
    "## What is Comet ML?\n",
    "\n",
    "![](https://github.com/TirendazAcademy/Comet-ML-Tutorials/blob/main/Images/comet-ml.png?raw=true)\n",
    "\n",
    "Comet ML is a platform that allows developers and data scientists to track, compare, and optimize their machine learning experiments. It provides a simple interface to log code, metrics, and artifacts, and allows users to collaborate and share their work with others.\n",
    "\n",
    "Nice, we have talked about some concepts we'll use in this notebook. Now, let's start an experiment with the Comet API key and log the hyperparameters we'll use for deep learning architecture. To do this, I'm going to use kaggle secret feature first as shown below:"
   ]
  },
  {
   "cell_type": "code",
   "execution_count": 1,
   "id": "18032e71",
   "metadata": {
    "execution": {
     "iopub.execute_input": "2023-01-26T10:19:23.478931Z",
     "iopub.status.busy": "2023-01-26T10:19:23.477777Z",
     "iopub.status.idle": "2023-01-26T10:19:39.908302Z",
     "shell.execute_reply": "2023-01-26T10:19:39.906951Z"
    },
    "papermill": {
     "duration": 16.453641,
     "end_time": "2023-01-26T10:19:39.911548",
     "exception": false,
     "start_time": "2023-01-26T10:19:23.457907",
     "status": "completed"
    },
    "tags": []
   },
   "outputs": [
    {
     "name": "stdout",
     "output_type": "stream",
     "text": [
      "Collecting comet_ml\r\n",
      "  Downloading comet_ml-3.32.0-py3-none-any.whl (462 kB)\r\n",
      "\u001b[2K     \u001b[90m━━━━━━━━━━━━━━━━━━━━━━━━━━━━━━━━━━━━━━━\u001b[0m \u001b[32m462.7/462.7 kB\u001b[0m \u001b[31m5.1 MB/s\u001b[0m eta \u001b[36m0:00:00\u001b[0m\r\n",
      "\u001b[?25hCollecting semantic-version>=2.8.0\r\n",
      "  Downloading semantic_version-2.10.0-py2.py3-none-any.whl (15 kB)\r\n",
      "Requirement already satisfied: requests>=2.18.4 in /opt/conda/lib/python3.7/site-packages (from comet_ml) (2.28.1)\r\n",
      "Requirement already satisfied: websocket-client<1.4.0,>=0.55.0 in /opt/conda/lib/python3.7/site-packages (from comet_ml) (1.3.3)\r\n",
      "Requirement already satisfied: wrapt>=1.11.2 in /opt/conda/lib/python3.7/site-packages (from comet_ml) (1.12.1)\r\n",
      "Collecting python-box<7.0.0\r\n",
      "  Downloading python_box-6.1.0-cp37-cp37m-manylinux_2_17_x86_64.manylinux2014_x86_64.whl (3.0 MB)\r\n",
      "\u001b[2K     \u001b[90m━━━━━━━━━━━━━━━━━━━━━━━━━━━━━━━━━━━━━━━━\u001b[0m \u001b[32m3.0/3.0 MB\u001b[0m \u001b[31m36.3 MB/s\u001b[0m eta \u001b[36m0:00:00\u001b[0m\r\n",
      "\u001b[?25hCollecting wurlitzer>=1.0.2\r\n",
      "  Downloading wurlitzer-3.0.3-py3-none-any.whl (7.3 kB)\r\n",
      "Collecting dulwich!=0.20.33,>=0.20.6\r\n",
      "  Downloading dulwich-0.21.2-cp37-cp37m-manylinux_2_17_x86_64.manylinux2014_x86_64.whl (504 kB)\r\n",
      "\u001b[2K     \u001b[90m━━━━━━━━━━━━━━━━━━━━━━━━━━━━━━━━━━━━━━\u001b[0m \u001b[32m504.4/504.4 kB\u001b[0m \u001b[31m36.2 MB/s\u001b[0m eta \u001b[36m0:00:00\u001b[0m\r\n",
      "\u001b[?25hRequirement already satisfied: simplejson in /opt/conda/lib/python3.7/site-packages (from comet_ml) (3.18.1)\r\n",
      "Requirement already satisfied: jsonschema!=3.1.0,>=2.6.0 in /opt/conda/lib/python3.7/site-packages (from comet_ml) (4.6.1)\r\n",
      "Requirement already satisfied: sentry-sdk>=1.1.0 in /opt/conda/lib/python3.7/site-packages (from comet_ml) (1.13.0)\r\n",
      "Requirement already satisfied: importlib-metadata in /opt/conda/lib/python3.7/site-packages (from comet_ml) (6.0.0)\r\n",
      "Collecting everett[ini]>=1.0.1\r\n",
      "  Downloading everett-3.1.0-py2.py3-none-any.whl (35 kB)\r\n",
      "Collecting requests-toolbelt>=0.8.0\r\n",
      "  Downloading requests_toolbelt-0.10.1-py2.py3-none-any.whl (54 kB)\r\n",
      "\u001b[2K     \u001b[90m━━━━━━━━━━━━━━━━━━━━━━━━━━━━━━━━━━━━━━━━\u001b[0m \u001b[32m54.5/54.5 kB\u001b[0m \u001b[31m5.3 MB/s\u001b[0m eta \u001b[36m0:00:00\u001b[0m\r\n",
      "\u001b[?25hRequirement already satisfied: six in /opt/conda/lib/python3.7/site-packages (from comet_ml) (1.15.0)\r\n",
      "Requirement already satisfied: typing-extensions in /opt/conda/lib/python3.7/site-packages (from dulwich!=0.20.33,>=0.20.6->comet_ml) (4.1.1)\r\n",
      "Requirement already satisfied: urllib3>=1.25 in /opt/conda/lib/python3.7/site-packages (from dulwich!=0.20.33,>=0.20.6->comet_ml) (1.26.14)\r\n",
      "Collecting configobj\r\n",
      "  Downloading configobj-5.0.8-py2.py3-none-any.whl (36 kB)\r\n",
      "Requirement already satisfied: attrs>=17.4.0 in /opt/conda/lib/python3.7/site-packages (from jsonschema!=3.1.0,>=2.6.0->comet_ml) (21.4.0)\r\n",
      "Requirement already satisfied: importlib-resources>=1.4.0 in /opt/conda/lib/python3.7/site-packages (from jsonschema!=3.1.0,>=2.6.0->comet_ml) (5.10.2)\r\n",
      "Requirement already satisfied: pyrsistent!=0.17.0,!=0.17.1,!=0.17.2,>=0.14.0 in /opt/conda/lib/python3.7/site-packages (from jsonschema!=3.1.0,>=2.6.0->comet_ml) (0.18.1)\r\n",
      "Requirement already satisfied: idna<4,>=2.5 in /opt/conda/lib/python3.7/site-packages (from requests>=2.18.4->comet_ml) (3.3)\r\n",
      "Requirement already satisfied: charset-normalizer<3,>=2 in /opt/conda/lib/python3.7/site-packages (from requests>=2.18.4->comet_ml) (2.1.0)\r\n",
      "Requirement already satisfied: certifi>=2017.4.17 in /opt/conda/lib/python3.7/site-packages (from requests>=2.18.4->comet_ml) (2022.12.7)\r\n",
      "Requirement already satisfied: zipp>=0.5 in /opt/conda/lib/python3.7/site-packages (from importlib-metadata->comet_ml) (3.8.0)\r\n",
      "Installing collected packages: everett, wurlitzer, semantic-version, python-box, dulwich, configobj, requests-toolbelt, comet_ml\r\n",
      "Successfully installed comet_ml-3.32.0 configobj-5.0.8 dulwich-0.21.2 everett-3.1.0 python-box-6.1.0 requests-toolbelt-0.10.1 semantic-version-2.10.0 wurlitzer-3.0.3\r\n",
      "\u001b[33mWARNING: Running pip as the 'root' user can result in broken permissions and conflicting behaviour with the system package manager. It is recommended to use a virtual environment instead: https://pip.pypa.io/warnings/venv\u001b[0m\u001b[33m\r\n",
      "\u001b[0m"
     ]
    },
    {
     "name": "stderr",
     "output_type": "stream",
     "text": [
      "COMET WARNING: As you are running in a Jupyter environment, you will need to call `experiment.end()` when finished to ensure all metrics and code are logged before exiting.\n",
      "COMET INFO: Couldn't find a Git repository in '/kaggle/working' nor in any parent directory. You can override where Comet is looking for a Git Patch by setting the configuration `COMET_GIT_DIRECTORY`\n",
      "COMET INFO: Experiment is live on comet.com https://www.comet.com/tirendaz-academy/experiment-tracking/35bc5619147b495092c71dae805004cb\n",
      "\n"
     ]
    }
   ],
   "source": [
    "# Setup user secrets for login\n",
    "from kaggle_secrets import UserSecretsClient\n",
    "user_secrets = UserSecretsClient()\n",
    "my_api_key = user_secrets.get_secret(\"COMET_API_KEY\")\n",
    "\n",
    "\n",
    "#Install comet_ml\n",
    "!pip install comet_ml\n",
    "\n",
    "# import comet_ml at the top of your file\n",
    "import comet_ml\n",
    "from comet_ml import Experiment\n",
    "\n",
    "## Create an experiment with your api key\n",
    "experiment = Experiment(\n",
    "    api_key= my_api_key,\n",
    "    workspace=\"tirendaz-academy\",\n",
    "    project_name=\"experiment-tracking\")\n",
    "\n",
    "# Setting hyperparameters\n",
    "hyper_params = {\"seed\": 42, \"batch_size\": 32, \"num_epochs\": 25, \"learning_rate\": 1e-3,\"image_size\": 224}\n",
    "experiment.log_parameters(hyper_params)"
   ]
  },
  {
   "cell_type": "markdown",
   "id": "4211fd92",
   "metadata": {
    "papermill": {
     "duration": 0.018323,
     "end_time": "2023-01-26T10:19:39.949967",
     "exception": false,
     "start_time": "2023-01-26T10:19:39.931644",
     "status": "completed"
    },
    "tags": []
   },
   "source": [
    "Let's take a look at the version of the torch and check if Cuda exists."
   ]
  },
  {
   "cell_type": "code",
   "execution_count": 2,
   "id": "baf755f7",
   "metadata": {
    "execution": {
     "iopub.execute_input": "2023-01-26T10:19:39.988023Z",
     "iopub.status.busy": "2023-01-26T10:19:39.987482Z",
     "iopub.status.idle": "2023-01-26T10:19:42.303821Z",
     "shell.execute_reply": "2023-01-26T10:19:42.302134Z"
    },
    "id": "opMaq45sNwic",
    "outputId": "3f1c70ff-d143-4a2d-90d3-57e2a2a2810b",
    "papermill": {
     "duration": 2.339541,
     "end_time": "2023-01-26T10:19:42.308222",
     "exception": false,
     "start_time": "2023-01-26T10:19:39.968681",
     "status": "completed"
    },
    "tags": []
   },
   "outputs": [
    {
     "name": "stdout",
     "output_type": "stream",
     "text": [
      "The version of torch: 1.11.0\n",
      "The type of devise:  cuda\n"
     ]
    }
   ],
   "source": [
    "import torch\n",
    "from torch import nn\n",
    "\n",
    "# Note: this notebook requires torch >= 1.10.0\n",
    "print(\"The version of torch:\", torch.__version__)\n",
    "\n",
    "device = \"cuda\" if torch.cuda.is_available() else \"cpu\"\n",
    "print(\"The type of devise: \",device)"
   ]
  },
  {
   "cell_type": "markdown",
   "id": "bd65fc76",
   "metadata": {
    "papermill": {
     "duration": 0.016674,
     "end_time": "2023-01-26T10:19:42.342883",
     "exception": false,
     "start_time": "2023-01-26T10:19:42.326209",
     "status": "completed"
    },
    "tags": []
   },
   "source": [
    "The dataset we will use for this tutorial is the cat and dog dataset, which contains images of cats and dogs. Let's take a look at the files in the dataset folder. To do this, let me create a function. "
   ]
  },
  {
   "cell_type": "code",
   "execution_count": 3,
   "id": "b3834982",
   "metadata": {
    "execution": {
     "iopub.execute_input": "2023-01-26T10:19:42.379260Z",
     "iopub.status.busy": "2023-01-26T10:19:42.378551Z",
     "iopub.status.idle": "2023-01-26T10:19:47.938594Z",
     "shell.execute_reply": "2023-01-26T10:19:47.937612Z"
    },
    "id": "x-i9_Ss89RiS",
    "papermill": {
     "duration": 5.581604,
     "end_time": "2023-01-26T10:19:47.941443",
     "exception": false,
     "start_time": "2023-01-26T10:19:42.359839",
     "status": "completed"
    },
    "tags": []
   },
   "outputs": [
    {
     "name": "stdout",
     "output_type": "stream",
     "text": [
      "There are 2 directories and 0 images in '/kaggle/input/cat-and-dog'.\n",
      "There are 1 directories and 0 images in '/kaggle/input/cat-and-dog/test_set'.\n",
      "There are 2 directories and 0 images in '/kaggle/input/cat-and-dog/test_set/test_set'.\n",
      "There are 0 directories and 1013 images in '/kaggle/input/cat-and-dog/test_set/test_set/dogs'.\n",
      "There are 0 directories and 1012 images in '/kaggle/input/cat-and-dog/test_set/test_set/cats'.\n",
      "There are 1 directories and 0 images in '/kaggle/input/cat-and-dog/training_set'.\n",
      "There are 2 directories and 0 images in '/kaggle/input/cat-and-dog/training_set/training_set'.\n",
      "There are 0 directories and 4006 images in '/kaggle/input/cat-and-dog/training_set/training_set/dogs'.\n",
      "There are 0 directories and 4001 images in '/kaggle/input/cat-and-dog/training_set/training_set/cats'.\n"
     ]
    }
   ],
   "source": [
    "import os\n",
    "def walk_through_dir(dir_path):\n",
    "  for dirpath, dirnames, filenames in os.walk(dir_path):\n",
    "    print(f\"There are {len(dirnames)} directories and {len(filenames)} images in '{dirpath}'.\")\n",
    "    \n",
    "image_path = \"/kaggle/input/cat-and-dog\"\n",
    "walk_through_dir(image_path)"
   ]
  },
  {
   "cell_type": "markdown",
   "id": "894dbc22",
   "metadata": {
    "papermill": {
     "duration": 0.018409,
     "end_time": "2023-01-26T10:19:47.979020",
     "exception": false,
     "start_time": "2023-01-26T10:19:47.960611",
     "status": "completed"
    },
    "tags": []
   },
   "source": [
    "Nice! We saw the files in the dataset folder. Now let's create train and testing paths:"
   ]
  },
  {
   "cell_type": "code",
   "execution_count": 4,
   "id": "01533d48",
   "metadata": {
    "execution": {
     "iopub.execute_input": "2023-01-26T10:19:48.019390Z",
     "iopub.status.busy": "2023-01-26T10:19:48.018926Z",
     "iopub.status.idle": "2023-01-26T10:19:48.032891Z",
     "shell.execute_reply": "2023-01-26T10:19:48.028861Z"
    },
    "id": "tCxPmTcQ-BL4",
    "outputId": "a8ca6a26-a01a-4392-8497-44530470080e",
    "papermill": {
     "duration": 0.037523,
     "end_time": "2023-01-26T10:19:48.036065",
     "exception": false,
     "start_time": "2023-01-26T10:19:47.998542",
     "status": "completed"
    },
    "tags": []
   },
   "outputs": [
    {
     "data": {
      "text/plain": [
       "('/kaggle/input/cat-and-dog/training_set/training_set',\n",
       " '/kaggle/input/cat-and-dog/test_set/test_set')"
      ]
     },
     "execution_count": 4,
     "metadata": {},
     "output_type": "execute_result"
    }
   ],
   "source": [
    "train_dir = \"/kaggle/input/cat-and-dog/training_set/training_set\"\n",
    "test_dir = \"/kaggle/input/cat-and-dog/test_set/test_set\"\n",
    "train_dir, test_dir"
   ]
  },
  {
   "cell_type": "markdown",
   "id": "7d3e7bdf",
   "metadata": {
    "papermill": {
     "duration": 0.01732,
     "end_time": "2023-01-26T10:19:48.071985",
     "exception": false,
     "start_time": "2023-01-26T10:19:48.054665",
     "status": "completed"
    },
    "tags": []
   },
   "source": [
    "<a id=\"Understanding\"></a>\n",
    "# <p style=\"background-color:coral;font-family:newtimeroman;font-size:150%;color:white;text-align:center;border-radius:20px 20px;\"><b>2. Understanding the Dataset</b></p>\n",
    "\n",
    "It is important to understand the dataset for deep learning analysis because the dataset is the foundation of any machine learning or deep learning model. A deep learning model can only be as good as the data it is trained on, and a poor understanding of the dataset can lead to poor model performance or even bias. Now let's take a look at an image in the dataset. "
   ]
  },
  {
   "cell_type": "code",
   "execution_count": 5,
   "id": "7822c483",
   "metadata": {
    "execution": {
     "iopub.execute_input": "2023-01-26T10:19:48.109358Z",
     "iopub.status.busy": "2023-01-26T10:19:48.108846Z",
     "iopub.status.idle": "2023-01-26T10:19:48.208055Z",
     "shell.execute_reply": "2023-01-26T10:19:48.207131Z"
    },
    "id": "Dh5tUEeY-sWk",
    "outputId": "dd5445b2-7fb3-4d66-cef5-8476ad7af591",
    "papermill": {
     "duration": 0.120474,
     "end_time": "2023-01-26T10:19:48.210035",
     "exception": false,
     "start_time": "2023-01-26T10:19:48.089561",
     "status": "completed"
    },
    "tags": []
   },
   "outputs": [
    {
     "name": "stdout",
     "output_type": "stream",
     "text": [
      "Random image path: /kaggle/input/cat-and-dog/test_set/test_set/cats/cat.4202.jpg\n",
      "Image class: cats\n",
      "Image height: 217\n",
      "Image width: 179\n"
     ]
    },
    {
     "data": {
      "image/png": "[encoded data removed]",
      "text/plain": [
       "<PIL.JpegImagePlugin.JpegImageFile image mode=RGB size=179x217>"
      ]
     },
     "execution_count": 5,
     "metadata": {},
     "output_type": "execute_result"
    }
   ],
   "source": [
    "import random\n",
    "from PIL import Image\n",
    "import glob\n",
    "from pathlib import Path\n",
    "\n",
    "# Set seed\n",
    "random.seed(hyper_params[\"seed\"]) \n",
    "\n",
    "# 1. Get all image paths (* means \"any combination\")\n",
    "image_path_list= glob.glob(f\"{image_path}/*/*/*/*.jpg\")\n",
    "\n",
    "# 2. Get random image path\n",
    "random_image_path = random.choice(image_path_list)\n",
    "\n",
    "# 3. Get image class from path name (the image class is the name of the directory where the image is stored)\n",
    "image_class = Path(random_image_path).parent.stem\n",
    "\n",
    "# 4. Open image\n",
    "img = Image.open(random_image_path)\n",
    "\n",
    "# 5. Print metadata\n",
    "print(f\"Random image path: {random_image_path}\")\n",
    "print(f\"Image class: {image_class}\")\n",
    "print(f\"Image height: {img.height}\") \n",
    "print(f\"Image width: {img.width}\")\n",
    "img"
   ]
  },
  {
   "cell_type": "markdown",
   "id": "85715b7e",
   "metadata": {
    "papermill": {
     "duration": 0.017741,
     "end_time": "2023-01-26T10:19:48.245398",
     "exception": false,
     "start_time": "2023-01-26T10:19:48.227657",
     "status": "completed"
    },
    "tags": []
   },
   "source": [
    "Beautiful cute cat isn't it? I love cats. So can't we use matplotlib for data visualization? Definitely yes. Let me show you."
   ]
  },
  {
   "cell_type": "code",
   "execution_count": 6,
   "id": "5ace8a45",
   "metadata": {
    "execution": {
     "iopub.execute_input": "2023-01-26T10:19:48.283533Z",
     "iopub.status.busy": "2023-01-26T10:19:48.283070Z",
     "iopub.status.idle": "2023-01-26T10:19:49.704944Z",
     "shell.execute_reply": "2023-01-26T10:19:49.703742Z"
    },
    "id": "9yiV3Z_RDkAI",
    "outputId": "6119a3ff-5ba9-42ef-b7b1-305d80eb8e95",
    "papermill": {
     "duration": 1.444987,
     "end_time": "2023-01-26T10:19:49.708318",
     "exception": false,
     "start_time": "2023-01-26T10:19:48.263331",
     "status": "completed"
    },
    "tags": []
   },
   "outputs": [
    {
     "data": {
      "image/png": "[encoded data removed]",
      "text/plain": [
       "<Figure size 576x432 with 1 Axes>"
      ]
     },
     "metadata": {},
     "output_type": "display_data"
    }
   ],
   "source": [
    "import numpy as np\n",
    "import matplotlib.pyplot as plt\n",
    "import seaborn as sns\n",
    "sns.set_theme()\n",
    "\n",
    "# Turn the image into an array\n",
    "img_as_array = np.asarray(img)\n",
    "\n",
    "# Plot the image with matplotlib\n",
    "plt.figure(figsize=(8, 6))\n",
    "plt.imshow(img_as_array)\n",
    "plt.title(f\"Image class: {image_class} | Image shape: {img_as_array.shape} -> [height, width, color_channels]\")\n",
    "plt.axis(False);"
   ]
  },
  {
   "cell_type": "markdown",
   "id": "b82456b9",
   "metadata": {
    "id": "9LrpI_fKGX1H",
    "papermill": {
     "duration": 0.02544,
     "end_time": "2023-01-26T10:19:49.761030",
     "exception": false,
     "start_time": "2023-01-26T10:19:49.735590",
     "status": "completed"
    },
    "tags": []
   },
   "source": [
    "<a id=\"Loading-image-data\"></a>\n",
    "# <p style=\"background-color:coral;font-family:newtimeroman;font-size:150%;color:white;text-align:center;border-radius:20px 20px;\"><b>3. Loading Image Data</b></p>\n",
    "So far, we've taken a look at the dataset. We are ready to load our dataset using this function. The easiest way to load data is to use the `ImageFolder` function in PyTorch. Let's load the dataset with this function. First, we're going to use data augmentation. Data augmentation is a technique used to artificially increase the size of a dataset by applying random modifications to the existing data. "
   ]
  },
  {
   "cell_type": "code",
   "execution_count": 7,
   "id": "5855c06f",
   "metadata": {
    "execution": {
     "iopub.execute_input": "2023-01-26T10:19:49.813857Z",
     "iopub.status.busy": "2023-01-26T10:19:49.813289Z",
     "iopub.status.idle": "2023-01-26T10:19:50.095980Z",
     "shell.execute_reply": "2023-01-26T10:19:50.094884Z"
    },
    "id": "RY-UzszvKrKW",
    "papermill": {
     "duration": 0.312711,
     "end_time": "2023-01-26T10:19:50.099215",
     "exception": false,
     "start_time": "2023-01-26T10:19:49.786504",
     "status": "completed"
    },
    "tags": []
   },
   "outputs": [],
   "source": [
    "from torchvision import transforms\n",
    "# Setting image size.\n",
    "IMAGE_SIZE=(hyper_params[\"image_size\"], hyper_params[\"image_size\"])\n",
    "\n",
    "# Create training transform with TrivialAugment\n",
    "train_transform = transforms.Compose([\n",
    "    transforms.Resize(IMAGE_SIZE),\n",
    "    transforms.TrivialAugmentWide(),\n",
    "    transforms.ToTensor()])\n",
    "\n",
    "# Create testing transform (no data augmentation)\n",
    "test_transform = transforms.Compose([\n",
    "    transforms.Resize(IMAGE_SIZE),\n",
    "    transforms.ToTensor()])"
   ]
  },
  {
   "cell_type": "markdown",
   "id": "8befc800",
   "metadata": {
    "papermill": {
     "duration": 0.021901,
     "end_time": "2023-01-26T10:19:50.143761",
     "exception": false,
     "start_time": "2023-01-26T10:19:50.121860",
     "status": "completed"
    },
    "tags": []
   },
   "source": [
    "Let's load images from train and test folders into a PyTorch dataset with the `ImageFolder` function."
   ]
  },
  {
   "cell_type": "code",
   "execution_count": 8,
   "id": "56c15fb6",
   "metadata": {
    "execution": {
     "iopub.execute_input": "2023-01-26T10:19:50.188641Z",
     "iopub.status.busy": "2023-01-26T10:19:50.188221Z",
     "iopub.status.idle": "2023-01-26T10:19:51.503639Z",
     "shell.execute_reply": "2023-01-26T10:19:51.502484Z"
    },
    "id": "mIdSIQORLd14",
    "outputId": "776dbcf3-57cc-4419-b95e-5a767a826ec2",
    "papermill": {
     "duration": 1.340846,
     "end_time": "2023-01-26T10:19:51.506748",
     "exception": false,
     "start_time": "2023-01-26T10:19:50.165902",
     "status": "completed"
    },
    "tags": []
   },
   "outputs": [
    {
     "data": {
      "text/plain": [
       "(Dataset ImageFolder\n",
       "     Number of datapoints: 8005\n",
       "     Root location: /kaggle/input/cat-and-dog/training_set/training_set\n",
       "     StandardTransform\n",
       " Transform: Compose(\n",
       "                Resize(size=(224, 224), interpolation=bilinear, max_size=None, antialias=None)\n",
       "                TrivialAugmentWide(num_magnitude_bins=31, interpolation=InterpolationMode.NEAREST, fill=None)\n",
       "                ToTensor()\n",
       "            ),\n",
       " Dataset ImageFolder\n",
       "     Number of datapoints: 2023\n",
       "     Root location: /kaggle/input/cat-and-dog/test_set/test_set\n",
       "     StandardTransform\n",
       " Transform: Compose(\n",
       "                Resize(size=(224, 224), interpolation=bilinear, max_size=None, antialias=None)\n",
       "                ToTensor()\n",
       "            ))"
      ]
     },
     "execution_count": 8,
     "metadata": {},
     "output_type": "execute_result"
    }
   ],
   "source": [
    "from torchvision import datasets\n",
    "\n",
    "# Turn image folders into Datasets\n",
    "train_data = datasets.ImageFolder(train_dir, transform=train_transform)\n",
    "test_data = datasets.ImageFolder(test_dir, transform=test_transform)\n",
    "\n",
    "train_data, test_data"
   ]
  },
  {
   "cell_type": "markdown",
   "id": "b1ef3596",
   "metadata": {
    "papermill": {
     "duration": 0.0208,
     "end_time": "2023-01-26T10:19:51.549771",
     "exception": false,
     "start_time": "2023-01-26T10:19:51.528971",
     "status": "completed"
    },
    "tags": []
   },
   "source": [
    "Now let's turn Datasets into DataLoader's."
   ]
  },
  {
   "cell_type": "code",
   "execution_count": 9,
   "id": "1e35abba",
   "metadata": {
    "execution": {
     "iopub.execute_input": "2023-01-26T10:19:51.594532Z",
     "iopub.status.busy": "2023-01-26T10:19:51.594072Z",
     "iopub.status.idle": "2023-01-26T10:19:51.610754Z",
     "shell.execute_reply": "2023-01-26T10:19:51.609710Z"
    },
    "id": "O_rQ4PllMe04",
    "outputId": "2a3ffefc-d582-4f28-b33d-2a0c2958db8d",
    "papermill": {
     "duration": 0.042616,
     "end_time": "2023-01-26T10:19:51.613903",
     "exception": false,
     "start_time": "2023-01-26T10:19:51.571287",
     "status": "completed"
    },
    "tags": []
   },
   "outputs": [
    {
     "data": {
      "text/plain": [
       "(<torch.utils.data.dataloader.DataLoader at 0x7f2b22b1a290>,\n",
       " <torch.utils.data.dataloader.DataLoader at 0x7f2b1d7eec90>)"
      ]
     },
     "execution_count": 9,
     "metadata": {},
     "output_type": "execute_result"
    }
   ],
   "source": [
    "from torch.utils.data import DataLoader\n",
    "\n",
    "# Setting some parameters\n",
    "torch.manual_seed(hyper_params[\"seed\"])\n",
    "# How many subprocesses will be used for data loading (higher = more)\n",
    "NUM_WORKERS = os.cpu_count()\n",
    "\n",
    "train_dataloader = DataLoader(train_data,\n",
    "                              batch_size=hyper_params[\"batch_size\"], \n",
    "                              shuffle=True,\n",
    "                              num_workers=NUM_WORKERS)\n",
    "\n",
    "test_dataloader = DataLoader(test_data,\n",
    "                             batch_size=hyper_params[\"batch_size\"], \n",
    "                             shuffle=False, \n",
    "                             num_workers=NUM_WORKERS)\n",
    "\n",
    "train_dataloader, test_dataloader"
   ]
  },
  {
   "cell_type": "markdown",
   "id": "03c82e0c",
   "metadata": {
    "papermill": {
     "duration": 0.021502,
     "end_time": "2023-01-26T10:19:51.657487",
     "exception": false,
     "start_time": "2023-01-26T10:19:51.635985",
     "status": "completed"
    },
    "tags": []
   },
   "source": [
    "Nice! We created the `DataLoader` objects. Let's go ahead and build an image classification architecture."
   ]
  },
  {
   "cell_type": "markdown",
   "id": "45e310af",
   "metadata": {
    "id": "cVDWp25FNRM_",
    "papermill": {
     "duration": 0.022833,
     "end_time": "2023-01-26T10:19:51.703027",
     "exception": false,
     "start_time": "2023-01-26T10:19:51.680194",
     "status": "completed"
    },
    "tags": []
   },
   "source": [
    "<a id=\"Building\"></a>\n",
    "# <p style=\"background-color:coral;font-family:newtimeroman;font-size:150%;color:white;text-align:center;border-radius:20px 20px;\"><b>4. Model Building</b></p>\n",
    "\n",
    "To build our model, we're going to use an architecture based on convolutional neural network (CNN). The architecture of a CNN consists of several layers, including convolutional layers, pooling layers, and fully connected layers."
   ]
  },
  {
   "cell_type": "code",
   "execution_count": 10,
   "id": "41eac957",
   "metadata": {
    "execution": {
     "iopub.execute_input": "2023-01-26T10:19:51.749457Z",
     "iopub.status.busy": "2023-01-26T10:19:51.748991Z",
     "iopub.status.idle": "2023-01-26T10:19:55.561776Z",
     "shell.execute_reply": "2023-01-26T10:19:55.560408Z"
    },
    "id": "j99yPcDCtnPG",
    "outputId": "45bba9bf-3063-4ab7-c820-8b95a351b6e8",
    "papermill": {
     "duration": 3.8393,
     "end_time": "2023-01-26T10:19:55.565106",
     "exception": false,
     "start_time": "2023-01-26T10:19:51.725806",
     "status": "completed"
    },
    "tags": []
   },
   "outputs": [],
   "source": [
    "# Creating a CNN-based image classifier.\n",
    "class ImageClassifier(nn.Module):\n",
    "    def __init__(self):\n",
    "        super().__init__()\n",
    "        self.conv_layer_1 = nn.Sequential(\n",
    "          nn.Conv2d(3, 64, 3, padding=1),\n",
    "          nn.ReLU(),\n",
    "          nn.BatchNorm2d(64),\n",
    "          nn.MaxPool2d(2))\n",
    "        self.conv_layer_2 = nn.Sequential(\n",
    "          nn.Conv2d(64, 512, 3, padding=1),\n",
    "          nn.ReLU(),\n",
    "          nn.BatchNorm2d(512),\n",
    "          nn.MaxPool2d(2))\n",
    "        self.conv_layer_3 = nn.Sequential(\n",
    "          nn.Conv2d(512, 512, kernel_size=3, padding=1),\n",
    "          nn.ReLU(),\n",
    "          nn.BatchNorm2d(512),\n",
    "          nn.MaxPool2d(2)) \n",
    "        self.classifier = nn.Sequential(\n",
    "          nn.Flatten(),\n",
    "          nn.Linear(in_features=512*3*3, out_features=2))\n",
    "    def forward(self, x: torch.Tensor):\n",
    "        x = self.conv_layer_1(x)\n",
    "        x = self.conv_layer_2(x)\n",
    "        x = self.conv_layer_3(x)\n",
    "        x = self.conv_layer_3(x)\n",
    "        x = self.conv_layer_3(x)\n",
    "        x = self.conv_layer_3(x)\n",
    "        x = self.classifier(x)\n",
    "        return x\n",
    "# Instantiate an object.\n",
    "model = ImageClassifier().to(device)"
   ]
  },
  {
   "cell_type": "markdown",
   "id": "bb5a5370",
   "metadata": {
    "id": "C4J-DUNXQbSB",
    "papermill": {
     "duration": 0.022902,
     "end_time": "2023-01-26T10:19:55.611051",
     "exception": false,
     "start_time": "2023-01-26T10:19:55.588149",
     "status": "completed"
    },
    "tags": []
   },
   "source": [
    "Ok, we created a CNN-based model. But does this model work? To understand this, let's pass a image through the model."
   ]
  },
  {
   "cell_type": "code",
   "execution_count": 11,
   "id": "ffc169ca",
   "metadata": {
    "execution": {
     "iopub.execute_input": "2023-01-26T10:19:55.659639Z",
     "iopub.status.busy": "2023-01-26T10:19:55.659267Z",
     "iopub.status.idle": "2023-01-26T10:20:05.533877Z",
     "shell.execute_reply": "2023-01-26T10:20:05.532632Z"
    },
    "id": "W3QEE5CBQa7j",
    "outputId": "2c2fa771-8ca4-4ca9-b643-27318a632e84",
    "papermill": {
     "duration": 9.901593,
     "end_time": "2023-01-26T10:20:05.536810",
     "exception": false,
     "start_time": "2023-01-26T10:19:55.635217",
     "status": "completed"
    },
    "tags": []
   },
   "outputs": [
    {
     "name": "stdout",
     "output_type": "stream",
     "text": [
      "Single image shape: torch.Size([1, 3, 224, 224])\n",
      "\n",
      "Output logits:\n",
      "tensor([[-0.0116, -0.0099]], device='cuda:0')\n",
      "\n",
      "Output prediction probabilities:\n",
      "tensor([[0.4996, 0.5004]], device='cuda:0')\n",
      "\n",
      "Output prediction label:\n",
      "tensor([1], device='cuda:0')\n",
      "\n",
      "Actual label:\n",
      "1\n"
     ]
    }
   ],
   "source": [
    "# 1. Get a batch of images and labels from the DataLoader\n",
    "img_batch, label_batch = next(iter(train_dataloader))\n",
    "\n",
    "# 2. Get a single image from the batch and unsqueeze the image so its shape fits the model\n",
    "img_single, label_single = img_batch[0].unsqueeze(dim=0), label_batch[0]\n",
    "print(f\"Single image shape: {img_single.shape}\\n\")\n",
    "\n",
    "# 3. Perform a forward pass on a single image\n",
    "model.eval()\n",
    "with torch.inference_mode():\n",
    "    pred = model(img_single.to(device))\n",
    "    \n",
    "# 4. Print out what's happening and convert model logits -> pred probs -> pred label\n",
    "print(f\"Output logits:\\n{pred}\\n\")\n",
    "print(f\"Output prediction probabilities:\\n{torch.softmax(pred, dim=1)}\\n\")\n",
    "print(f\"Output prediction label:\\n{torch.argmax(torch.softmax(pred, dim=1), dim=1)}\\n\")\n",
    "print(f\"Actual label:\\n{label_single}\")"
   ]
  },
  {
   "cell_type": "markdown",
   "id": "5016700b",
   "metadata": {
    "papermill": {
     "duration": 0.023324,
     "end_time": "2023-01-26T10:20:05.584518",
     "exception": false,
     "start_time": "2023-01-26T10:20:05.561194",
     "status": "completed"
    },
    "tags": []
   },
   "source": [
    "Nice! Our model is working for an image. Let's go ahead and try to understand this model with the `torchinfo` package "
   ]
  },
  {
   "cell_type": "code",
   "execution_count": 12,
   "id": "dde93fe1",
   "metadata": {
    "execution": {
     "iopub.execute_input": "2023-01-26T10:20:05.633466Z",
     "iopub.status.busy": "2023-01-26T10:20:05.632981Z",
     "iopub.status.idle": "2023-01-26T10:20:21.374658Z",
     "shell.execute_reply": "2023-01-26T10:20:21.373461Z"
    },
    "id": "iDdzcRfVRP2a",
    "outputId": "078bff53-f872-4aff-bdbf-de6487d7fd4a",
    "papermill": {
     "duration": 15.769913,
     "end_time": "2023-01-26T10:20:21.377703",
     "exception": false,
     "start_time": "2023-01-26T10:20:05.607790",
     "status": "completed"
    },
    "tags": []
   },
   "outputs": [
    {
     "name": "stdout",
     "output_type": "stream",
     "text": [
      "Collecting torchinfo\r\n",
      "  Downloading torchinfo-1.7.1-py3-none-any.whl (22 kB)\r\n",
      "Installing collected packages: torchinfo\r\n",
      "Successfully installed torchinfo-1.7.1\r\n",
      "\u001b[33mWARNING: Running pip as the 'root' user can result in broken permissions and conflicting behaviour with the system package manager. It is recommended to use a virtual environment instead: https://pip.pypa.io/warnings/venv\u001b[0m\u001b[33m\r\n",
      "\u001b[0m"
     ]
    },
    {
     "data": {
      "text/plain": [
       "==========================================================================================\n",
       "Layer (type:depth-idx)                   Output Shape              Param #\n",
       "==========================================================================================\n",
       "ImageClassifier                          [1, 2]                    --\n",
       "├─Sequential: 1-1                        [1, 64, 112, 112]         --\n",
       "│    └─Conv2d: 2-1                       [1, 64, 224, 224]         1,792\n",
       "│    └─ReLU: 2-2                         [1, 64, 224, 224]         --\n",
       "│    └─BatchNorm2d: 2-3                  [1, 64, 224, 224]         128\n",
       "│    └─MaxPool2d: 2-4                    [1, 64, 112, 112]         --\n",
       "├─Sequential: 1-2                        [1, 512, 56, 56]          --\n",
       "│    └─Conv2d: 2-5                       [1, 512, 112, 112]        295,424\n",
       "│    └─ReLU: 2-6                         [1, 512, 112, 112]        --\n",
       "│    └─BatchNorm2d: 2-7                  [1, 512, 112, 112]        1,024\n",
       "│    └─MaxPool2d: 2-8                    [1, 512, 56, 56]          --\n",
       "├─Sequential: 1-3                        [1, 512, 28, 28]          --\n",
       "│    └─Conv2d: 2-9                       [1, 512, 56, 56]          2,359,808\n",
       "│    └─ReLU: 2-10                        [1, 512, 56, 56]          --\n",
       "│    └─BatchNorm2d: 2-11                 [1, 512, 56, 56]          1,024\n",
       "│    └─MaxPool2d: 2-12                   [1, 512, 28, 28]          --\n",
       "├─Sequential: 1-4                        [1, 512, 14, 14]          (recursive)\n",
       "│    └─Conv2d: 2-13                      [1, 512, 28, 28]          (recursive)\n",
       "│    └─ReLU: 2-14                        [1, 512, 28, 28]          --\n",
       "│    └─BatchNorm2d: 2-15                 [1, 512, 28, 28]          (recursive)\n",
       "│    └─MaxPool2d: 2-16                   [1, 512, 14, 14]          --\n",
       "├─Sequential: 1-5                        [1, 512, 7, 7]            (recursive)\n",
       "│    └─Conv2d: 2-17                      [1, 512, 14, 14]          (recursive)\n",
       "│    └─ReLU: 2-18                        [1, 512, 14, 14]          --\n",
       "│    └─BatchNorm2d: 2-19                 [1, 512, 14, 14]          (recursive)\n",
       "│    └─MaxPool2d: 2-20                   [1, 512, 7, 7]            --\n",
       "├─Sequential: 1-6                        [1, 512, 3, 3]            (recursive)\n",
       "│    └─Conv2d: 2-21                      [1, 512, 7, 7]            (recursive)\n",
       "│    └─ReLU: 2-22                        [1, 512, 7, 7]            --\n",
       "│    └─BatchNorm2d: 2-23                 [1, 512, 7, 7]            (recursive)\n",
       "│    └─MaxPool2d: 2-24                   [1, 512, 3, 3]            --\n",
       "├─Sequential: 1-7                        [1, 2]                    --\n",
       "│    └─Flatten: 2-25                     [1, 4608]                 --\n",
       "│    └─Linear: 2-26                      [1, 2]                    9,218\n",
       "==========================================================================================\n",
       "Total params: 2,668,418\n",
       "Trainable params: 2,668,418\n",
       "Non-trainable params: 0\n",
       "Total mult-adds (G): 13.62\n",
       "==========================================================================================\n",
       "Input size (MB): 0.60\n",
       "Forward/backward pass size (MB): 179.83\n",
       "Params size (MB): 10.67\n",
       "Estimated Total Size (MB): 191.11\n",
       "=========================================================================================="
      ]
     },
     "execution_count": 12,
     "metadata": {},
     "output_type": "execute_result"
    }
   ],
   "source": [
    "# Install torchinfo if it's not available, import it if it is\n",
    "try: \n",
    "    import torchinfo\n",
    "except:\n",
    "    !pip install torchinfo\n",
    "    import torchinfo\n",
    "    \n",
    "from torchinfo import summary\n",
    "# do a test pass through of an example input size \n",
    "summary(model, input_size=[1, 3, hyper_params[\"image_size\"] ,hyper_params[\"image_size\"]]) "
   ]
  },
  {
   "cell_type": "markdown",
   "id": "b19083be",
   "metadata": {
    "papermill": {
     "duration": 0.023363,
     "end_time": "2023-01-26T10:20:21.426017",
     "exception": false,
     "start_time": "2023-01-26T10:20:21.402654",
     "status": "completed"
    },
    "tags": []
   },
   "source": [
    "Note that the model is built on the training data and tested on the validation set. Now let's create two function to train and test the model."
   ]
  },
  {
   "cell_type": "code",
   "execution_count": 13,
   "id": "abd329ee",
   "metadata": {
    "execution": {
     "iopub.execute_input": "2023-01-26T10:20:21.475022Z",
     "iopub.status.busy": "2023-01-26T10:20:21.474602Z",
     "iopub.status.idle": "2023-01-26T10:20:21.488616Z",
     "shell.execute_reply": "2023-01-26T10:20:21.487658Z"
    },
    "id": "K0cOVqstRwCZ",
    "papermill": {
     "duration": 0.041244,
     "end_time": "2023-01-26T10:20:21.491334",
     "exception": false,
     "start_time": "2023-01-26T10:20:21.450090",
     "status": "completed"
    },
    "tags": []
   },
   "outputs": [],
   "source": [
    "def train_step(model: torch.nn.Module, \n",
    "               dataloader: torch.utils.data.DataLoader, \n",
    "               loss_fn: torch.nn.Module, \n",
    "               optimizer: torch.optim.Optimizer):\n",
    "    \n",
    "    # Put model in train mode\n",
    "    model.train()\n",
    "    \n",
    "    # Setup train loss and train accuracy values\n",
    "    train_loss, train_acc = 0, 0\n",
    "    \n",
    "    # Loop through data loader data batches\n",
    "    for batch, (X, y) in enumerate(dataloader):\n",
    "        # Send data to target device\n",
    "        X, y = X.to(device), y.to(device)\n",
    "        \n",
    "        # 1. Forward pass\n",
    "        y_pred = model(X)\n",
    "\n",
    "        # 2. Calculate  and accumulate loss\n",
    "        loss = loss_fn(y_pred, y)\n",
    "        train_loss += loss.item() \n",
    "\n",
    "        # 3. Optimizer zero grad\n",
    "        optimizer.zero_grad()\n",
    "\n",
    "        # 4. Loss backward\n",
    "        loss.backward()\n",
    "\n",
    "        # 5. Optimizer step\n",
    "        optimizer.step()\n",
    "\n",
    "        # Calculate and accumulate accuracy metric across all batches\n",
    "        y_pred_class = torch.argmax(torch.softmax(y_pred, dim=1), dim=1)\n",
    "        train_acc += (y_pred_class == y).sum().item()/len(y_pred)\n",
    "\n",
    "    # Adjust metrics to get average loss and accuracy per batch \n",
    "    train_loss = train_loss / len(dataloader)\n",
    "    train_acc = train_acc / len(dataloader)\n",
    "    \n",
    "    # Logging train metrics\n",
    "    experiment.log_metrics({\"train_accuracy\": train_acc, \"train_loss\": train_loss}, epoch=hyper_params['num_epochs'])\n",
    "    return train_loss, train_acc"
   ]
  },
  {
   "cell_type": "code",
   "execution_count": 14,
   "id": "b527dc4c",
   "metadata": {
    "execution": {
     "iopub.execute_input": "2023-01-26T10:20:21.540802Z",
     "iopub.status.busy": "2023-01-26T10:20:21.540465Z",
     "iopub.status.idle": "2023-01-26T10:20:21.552636Z",
     "shell.execute_reply": "2023-01-26T10:20:21.551711Z"
    },
    "id": "lAxEiSgWS3rv",
    "papermill": {
     "duration": 0.039691,
     "end_time": "2023-01-26T10:20:21.555752",
     "exception": false,
     "start_time": "2023-01-26T10:20:21.516061",
     "status": "completed"
    },
    "tags": []
   },
   "outputs": [],
   "source": [
    "def test_step(model: torch.nn.Module, \n",
    "              dataloader: torch.utils.data.DataLoader, \n",
    "              loss_fn: torch.nn.Module):\n",
    "    \n",
    "    # Put model in eval mode\n",
    "    model.eval() \n",
    "    \n",
    "    # Setup test loss and test accuracy values\n",
    "    test_loss, test_acc = 0, 0\n",
    "    \n",
    "    # Turn on inference context manager\n",
    "    with torch.inference_mode():\n",
    "        # Loop through DataLoader batches\n",
    "        for batch, (X, y) in enumerate(dataloader):\n",
    "            # Send data to target device\n",
    "            X, y = X.to(device), y.to(device)\n",
    "    \n",
    "            # 1. Forward pass\n",
    "            test_pred_logits = model(X)\n",
    "\n",
    "            # 2. Calculate and accumulate loss\n",
    "            loss = loss_fn(test_pred_logits, y)\n",
    "            test_loss += loss.item()\n",
    "            \n",
    "            # Calculate and accumulate accuracy\n",
    "            test_pred_labels = test_pred_logits.argmax(dim=1)\n",
    "            test_acc += ((test_pred_labels == y).sum().item()/len(test_pred_labels))\n",
    "            \n",
    "    # Adjust metrics to get average loss and accuracy per batch \n",
    "    test_loss = test_loss / len(dataloader)\n",
    "    test_acc = test_acc / len(dataloader)\n",
    "    \n",
    "    # Logging test metrics\n",
    "    experiment.log_metrics({\"test_accuracy\": test_acc, \"test_loss\": test_loss}, epoch=hyper_params['num_epochs'])\n",
    "    return test_loss, test_acc"
   ]
  },
  {
   "cell_type": "markdown",
   "id": "3c429011",
   "metadata": {
    "id": "UsAKvGwpTAS7",
    "papermill": {
     "duration": 0.022603,
     "end_time": "2023-01-26T10:20:21.601537",
     "exception": false,
     "start_time": "2023-01-26T10:20:21.578934",
     "status": "completed"
    },
    "tags": []
   },
   "source": [
    "Now let's create a function named train to combine the train_step and test_step functions."
   ]
  },
  {
   "cell_type": "code",
   "execution_count": 15,
   "id": "32ae1f34",
   "metadata": {
    "execution": {
     "iopub.execute_input": "2023-01-26T10:20:21.648858Z",
     "iopub.status.busy": "2023-01-26T10:20:21.648524Z",
     "iopub.status.idle": "2023-01-26T10:20:21.662476Z",
     "shell.execute_reply": "2023-01-26T10:20:21.661542Z"
    },
    "id": "uhTD1INIS_UA",
    "papermill": {
     "duration": 0.041233,
     "end_time": "2023-01-26T10:20:21.665666",
     "exception": false,
     "start_time": "2023-01-26T10:20:21.624433",
     "status": "completed"
    },
    "tags": []
   },
   "outputs": [],
   "source": [
    "from tqdm.auto import tqdm\n",
    "\n",
    "# 1. Take in various parameters required for training and test steps\n",
    "def train(model: torch.nn.Module, \n",
    "          train_dataloader: torch.utils.data.DataLoader, \n",
    "          test_dataloader: torch.utils.data.DataLoader, \n",
    "          optimizer: torch.optim.Optimizer,\n",
    "          loss_fn: torch.nn.Module = nn.CrossEntropyLoss(),\n",
    "          epochs: int = 5):\n",
    "    \n",
    "    # 2. Create empty results dictionary\n",
    "    results = {\"train_loss\": [],\n",
    "        \"train_acc\": [],\n",
    "        \"test_loss\": [],\n",
    "        \"test_acc\": []\n",
    "    }\n",
    "    \n",
    "    # 3. Loop through training and testing steps for a number of epochs\n",
    "    for epoch in tqdm(range(epochs)):\n",
    "        train_loss, train_acc = train_step(model=model,\n",
    "                                           dataloader=train_dataloader,\n",
    "                                           loss_fn=loss_fn,\n",
    "                                           optimizer=optimizer)\n",
    "        test_loss, test_acc = test_step(model=model,\n",
    "            dataloader=test_dataloader,\n",
    "            loss_fn=loss_fn)\n",
    "        \n",
    "        # 4. Print out what's happening\n",
    "        print(\n",
    "            f\"Epoch: {epoch+1} | \"\n",
    "            f\"train_loss: {train_loss:.4f} | \"\n",
    "            f\"train_acc: {train_acc:.4f} | \"\n",
    "            f\"test_loss: {test_loss:.4f} | \"\n",
    "            f\"test_acc: {test_acc:.4f}\"\n",
    "        )\n",
    "\n",
    "        # 5. Update results dictionary\n",
    "        results[\"train_loss\"].append(train_loss)\n",
    "        results[\"train_acc\"].append(train_acc)\n",
    "        results[\"test_loss\"].append(test_loss)\n",
    "        results[\"test_acc\"].append(test_acc)\n",
    "\n",
    "    # 6. Return the filled results at the end of the epochs\n",
    "    return results"
   ]
  },
  {
   "cell_type": "markdown",
   "id": "82786ac9",
   "metadata": {
    "papermill": {
     "duration": 0.024782,
     "end_time": "2023-01-26T10:20:21.714810",
     "exception": false,
     "start_time": "2023-01-26T10:20:21.690028",
     "status": "completed"
    },
    "tags": []
   },
   "source": [
    "So far, we created training and test steps. We are ready to train the model using these steps. Show time:"
   ]
  },
  {
   "cell_type": "code",
   "execution_count": 16,
   "id": "9aac290f",
   "metadata": {
    "execution": {
     "iopub.execute_input": "2023-01-26T10:20:21.763112Z",
     "iopub.status.busy": "2023-01-26T10:20:21.762681Z",
     "iopub.status.idle": "2023-01-26T11:08:31.242428Z",
     "shell.execute_reply": "2023-01-26T11:08:31.241176Z"
    },
    "id": "n8K6e7DeTShp",
    "outputId": "af4f43fc-5a21-4214-e655-91b99396e153",
    "papermill": {
     "duration": 2889.569759,
     "end_time": "2023-01-26T11:08:31.308259",
     "exception": false,
     "start_time": "2023-01-26T10:20:21.738500",
     "status": "completed"
    },
    "tags": []
   },
   "outputs": [
    {
     "data": {
      "application/vnd.jupyter.widget-view+json": {
       "model_id": "541ebd461427416c8e81211d10f402af",
       "version_major": 2,
       "version_minor": 0
      },
      "text/plain": [
       "  0%|          | 0/25 [00:00<?, ?it/s]"
      ]
     },
     "metadata": {},
     "output_type": "display_data"
    },
    {
     "name": "stdout",
     "output_type": "stream",
     "text": [
      "Epoch: 1 | train_loss: 0.9725 | train_acc: 0.5704 | test_loss: 0.7004 | test_acc: 0.6154\n",
      "Epoch: 2 | train_loss: 0.8955 | train_acc: 0.6106 | test_loss: 0.6760 | test_acc: 0.6408\n",
      "Epoch: 3 | train_loss: 0.8702 | train_acc: 0.6248 | test_loss: 0.6328 | test_acc: 0.6884\n",
      "Epoch: 4 | train_loss: 0.7623 | train_acc: 0.6513 | test_loss: 0.8917 | test_acc: 0.5919\n",
      "Epoch: 5 | train_loss: 0.6645 | train_acc: 0.6822 | test_loss: 0.8140 | test_acc: 0.6766\n",
      "Epoch: 6 | train_loss: 0.6450 | train_acc: 0.6992 | test_loss: 0.5627 | test_acc: 0.7188\n",
      "Epoch: 7 | train_loss: 0.5772 | train_acc: 0.7239 | test_loss: 0.5261 | test_acc: 0.7414\n",
      "Epoch: 8 | train_loss: 0.5556 | train_acc: 0.7382 | test_loss: 0.5137 | test_acc: 0.7722\n",
      "Epoch: 9 | train_loss: 0.5165 | train_acc: 0.7579 | test_loss: 0.4318 | test_acc: 0.8018\n",
      "Epoch: 10 | train_loss: 0.4909 | train_acc: 0.7773 | test_loss: 0.3886 | test_acc: 0.8249\n",
      "Epoch: 11 | train_loss: 0.4258 | train_acc: 0.8079 | test_loss: 0.4792 | test_acc: 0.7915\n",
      "Epoch: 12 | train_loss: 0.4062 | train_acc: 0.8171 | test_loss: 0.3495 | test_acc: 0.8422\n",
      "Epoch: 13 | train_loss: 0.3606 | train_acc: 0.8363 | test_loss: 0.3349 | test_acc: 0.8578\n",
      "Epoch: 14 | train_loss: 0.3481 | train_acc: 0.8530 | test_loss: 0.3698 | test_acc: 0.8493\n",
      "Epoch: 15 | train_loss: 0.3182 | train_acc: 0.8591 | test_loss: 0.2971 | test_acc: 0.8755\n",
      "Epoch: 16 | train_loss: 0.2543 | train_acc: 0.8895 | test_loss: 0.2748 | test_acc: 0.8818\n",
      "Epoch: 17 | train_loss: 0.2446 | train_acc: 0.8931 | test_loss: 0.2803 | test_acc: 0.8809\n",
      "Epoch: 18 | train_loss: 0.2196 | train_acc: 0.9036 | test_loss: 0.2114 | test_acc: 0.9174\n",
      "Epoch: 19 | train_loss: 0.2083 | train_acc: 0.9087 | test_loss: 0.2908 | test_acc: 0.8820\n",
      "Epoch: 20 | train_loss: 0.1902 | train_acc: 0.9198 | test_loss: 0.3092 | test_acc: 0.8894\n",
      "Epoch: 21 | train_loss: 0.1901 | train_acc: 0.9215 | test_loss: 0.3927 | test_acc: 0.8689\n",
      "Epoch: 22 | train_loss: 0.1832 | train_acc: 0.9221 | test_loss: 0.2717 | test_acc: 0.9008\n",
      "Epoch: 23 | train_loss: 0.1787 | train_acc: 0.9231 | test_loss: 0.2772 | test_acc: 0.8989\n",
      "Epoch: 24 | train_loss: 0.1961 | train_acc: 0.9145 | test_loss: 0.3355 | test_acc: 0.8808\n",
      "Epoch: 25 | train_loss: 0.1762 | train_acc: 0.9250 | test_loss: 0.4603 | test_acc: 0.8689\n",
      "Total training time: 2889.460 seconds\n"
     ]
    }
   ],
   "source": [
    "# Set random seeds\n",
    "torch.manual_seed(hyper_params[\"seed\"]) \n",
    "torch.cuda.manual_seed(hyper_params[\"seed\"])\n",
    "\n",
    "# Setup loss function and optimizer\n",
    "loss_fn = nn.CrossEntropyLoss()\n",
    "optimizer = torch.optim.Adam(params=model.parameters(), lr=hyper_params[\"learning_rate\"])\n",
    "\n",
    "# Start the timer\n",
    "from timeit import default_timer as timer \n",
    "start_time = timer()\n",
    "\n",
    "# Training the model\n",
    "model_results = train(model=model,\n",
    "                      train_dataloader=train_dataloader,\n",
    "                      test_dataloader=test_dataloader,\n",
    "                      optimizer=optimizer,\n",
    "                      loss_fn=loss_fn,\n",
    "                      epochs=hyper_params[\"num_epochs\"])\n",
    "\n",
    "# End the timer and print out how long it took\n",
    "end_time = timer()\n",
    "print(f\"Total training time: {end_time-start_time:.3f} seconds\")"
   ]
  },
  {
   "cell_type": "markdown",
   "id": "a5dfadf9",
   "metadata": {
    "papermill": {
     "duration": 0.042853,
     "end_time": "2023-01-26T11:08:31.367731",
     "exception": false,
     "start_time": "2023-01-26T11:08:31.324878",
     "status": "completed"
    },
    "tags": []
   },
   "source": [
    "Beautiful. It's done. Now we had a model for image classification. To understand the performance of model, let's visualize the loss and accuracy values."
   ]
  },
  {
   "cell_type": "code",
   "execution_count": 17,
   "id": "5fecc62c",
   "metadata": {
    "execution": {
     "iopub.execute_input": "2023-01-26T11:08:31.441607Z",
     "iopub.status.busy": "2023-01-26T11:08:31.441019Z",
     "iopub.status.idle": "2023-01-26T11:08:31.464287Z",
     "shell.execute_reply": "2023-01-26T11:08:31.462490Z"
    },
    "id": "WevAWGI_kLf4",
    "papermill": {
     "duration": 0.063491,
     "end_time": "2023-01-26T11:08:31.468038",
     "exception": false,
     "start_time": "2023-01-26T11:08:31.404547",
     "status": "completed"
    },
    "tags": []
   },
   "outputs": [],
   "source": [
    "def plot_loss_curves(results):\n",
    "  \n",
    "    results = dict(list(model_results.items()))\n",
    "\n",
    "    # Get the loss values of the results dictionary (training and test)\n",
    "    loss = results['train_loss']\n",
    "    test_loss = results['test_loss']\n",
    "\n",
    "    # Get the accuracy values of the results dictionary (training and test)\n",
    "    accuracy = results['train_acc']\n",
    "    test_accuracy = results['test_acc']\n",
    "\n",
    "    # Figure out how many epochs there were\n",
    "    epochs = range(len(results['train_loss']))\n",
    "\n",
    "    # Setup a plot \n",
    "    plt.figure(figsize=(15, 7))\n",
    "\n",
    "    # Plot loss\n",
    "    plt.subplot(1, 2, 1)\n",
    "    plt.plot(epochs, loss, label='train_loss')\n",
    "    plt.plot(epochs, test_loss, label='test_loss')\n",
    "    plt.title('Loss')\n",
    "    plt.xlabel('Epochs')\n",
    "    plt.legend()\n",
    "\n",
    "    # Plot accuracy\n",
    "    plt.subplot(1, 2, 2)\n",
    "    plt.plot(epochs, accuracy, label='train_accuracy')\n",
    "    plt.plot(epochs, test_accuracy, label='test_accuracy')\n",
    "    plt.title('Accuracy')\n",
    "    plt.xlabel('Epochs')\n",
    "    plt.legend();"
   ]
  },
  {
   "cell_type": "markdown",
   "id": "ceafc714",
   "metadata": {
    "papermill": {
     "duration": 0.023797,
     "end_time": "2023-01-26T11:08:31.517413",
     "exception": false,
     "start_time": "2023-01-26T11:08:31.493616",
     "status": "completed"
    },
    "tags": []
   },
   "source": [
    "It is time to visualize for the loss and accuracy values using this function."
   ]
  },
  {
   "cell_type": "code",
   "execution_count": 18,
   "id": "09703102",
   "metadata": {
    "execution": {
     "iopub.execute_input": "2023-01-26T11:08:31.566279Z",
     "iopub.status.busy": "2023-01-26T11:08:31.565854Z",
     "iopub.status.idle": "2023-01-26T11:08:32.102202Z",
     "shell.execute_reply": "2023-01-26T11:08:32.101132Z"
    },
    "id": "3uS-wF6wmH0B",
    "outputId": "aca58bb7-7f47-4965-ca12-b14d216ba74d",
    "papermill": {
     "duration": 0.563739,
     "end_time": "2023-01-26T11:08:32.104785",
     "exception": false,
     "start_time": "2023-01-26T11:08:31.541046",
     "status": "completed"
    },
    "tags": []
   },
   "outputs": [
    {
     "data": {
      "image/png": "[encoded data removed]",
      "text/plain": [
       "<Figure size 1080x504 with 2 Axes>"
      ]
     },
     "metadata": {},
     "output_type": "display_data"
    }
   ],
   "source": [
    "plot_loss_curves(model_results)"
   ]
  },
  {
   "cell_type": "markdown",
   "id": "026b5782",
   "metadata": {
    "papermill": {
     "duration": 0.017378,
     "end_time": "2023-01-26T11:08:32.140146",
     "exception": false,
     "start_time": "2023-01-26T11:08:32.122768",
     "status": "completed"
    },
    "tags": []
   },
   "source": [
    "Awesome. The performance of our model is not bad on both the training and test datasets. Let's go ahead and take a look at how to make a prediction."
   ]
  },
  {
   "cell_type": "markdown",
   "id": "6972651a",
   "metadata": {
    "id": "i4S-9BpBnhM6",
    "papermill": {
     "duration": 0.017474,
     "end_time": "2023-01-26T11:08:32.175118",
     "exception": false,
     "start_time": "2023-01-26T11:08:32.157644",
     "status": "completed"
    },
    "tags": []
   },
   "source": [
    "<a id=\"Prediction\"></a>\n",
    "# <p style=\"background-color:coral;font-family:newtimeroman;font-size:150%;color:white;text-align:center;border-radius:20px 20px;\"><b>5. Make a Prediction</b></p>\n",
    "\n",
    "Now we had a good model for image classification. But, how does this model predict new data? To understand this let me make a prediction on a custom image. "
   ]
  },
  {
   "cell_type": "code",
   "execution_count": 19,
   "id": "567944e3",
   "metadata": {
    "execution": {
     "iopub.execute_input": "2023-01-26T11:08:32.211872Z",
     "iopub.status.busy": "2023-01-26T11:08:32.210776Z",
     "iopub.status.idle": "2023-01-26T11:08:32.229209Z",
     "shell.execute_reply": "2023-01-26T11:08:32.227875Z"
    },
    "id": "c2Cke99ToEZr",
    "outputId": "bc388d6e-6d02-4811-c807-f7fe4036331f",
    "papermill": {
     "duration": 0.039574,
     "end_time": "2023-01-26T11:08:32.232325",
     "exception": false,
     "start_time": "2023-01-26T11:08:32.192751",
     "status": "completed"
    },
    "tags": []
   },
   "outputs": [
    {
     "name": "stdout",
     "output_type": "stream",
     "text": [
      "Custom image tensor:\n",
      "tensor([[[0.4941, 0.3059, 0.3059,  ..., 0.5490, 0.5412, 0.5451],\n",
      "         [0.5333, 0.3451, 0.3059,  ..., 0.5490, 0.5451, 0.5490],\n",
      "         [0.5686, 0.3961, 0.2980,  ..., 0.5490, 0.5451, 0.5490],\n",
      "         ...,\n",
      "         [0.6157, 0.6039, 0.6314,  ..., 0.6392, 0.6157, 0.5961],\n",
      "         [0.6157, 0.6039, 0.6314,  ..., 0.6471, 0.6157, 0.5882],\n",
      "         [0.6157, 0.6039, 0.6314,  ..., 0.6471, 0.6118, 0.5804]],\n",
      "\n",
      "        [[0.4314, 0.2431, 0.2392,  ..., 0.5490, 0.5412, 0.5451],\n",
      "         [0.4863, 0.2941, 0.2549,  ..., 0.5490, 0.5451, 0.5490],\n",
      "         [0.5412, 0.3686, 0.2706,  ..., 0.5490, 0.5451, 0.5490],\n",
      "         ...,\n",
      "         [0.4784, 0.4667, 0.4941,  ..., 0.5608, 0.5373, 0.5176],\n",
      "         [0.4784, 0.4667, 0.4941,  ..., 0.5686, 0.5373, 0.5098],\n",
      "         [0.4784, 0.4667, 0.4941,  ..., 0.5686, 0.5333, 0.5020]],\n",
      "\n",
      "        [[0.3333, 0.1529, 0.1686,  ..., 0.5804, 0.5725, 0.5765],\n",
      "         [0.4000, 0.2196, 0.1882,  ..., 0.5804, 0.5765, 0.5804],\n",
      "         [0.4667, 0.2980, 0.2078,  ..., 0.5804, 0.5765, 0.5804],\n",
      "         ...,\n",
      "         [0.4039, 0.3922, 0.4196,  ..., 0.5333, 0.5098, 0.4902],\n",
      "         [0.4039, 0.3922, 0.4196,  ..., 0.5412, 0.5098, 0.4824],\n",
      "         [0.4039, 0.3922, 0.4196,  ..., 0.5412, 0.5059, 0.4745]]])\n",
      "\n",
      "Custom image shape: torch.Size([3, 499, 421])\n",
      "\n",
      "Custom image dtype: torch.float32\n"
     ]
    }
   ],
   "source": [
    "# Choose a image.\n",
    "custom_image_path = \"/kaggle/input/cat-and-dog/test_set/test_set/dogs/dog.4001.jpg\"\n",
    "\n",
    "import torchvision\n",
    "# Load in custom image and convert the tensor values to float32\n",
    "custom_image = torchvision.io.read_image(str(custom_image_path)).type(torch.float32)\n",
    "\n",
    "# Divide the image pixel values by 255 to get them between [0, 1]\n",
    "custom_image = custom_image / 255. \n",
    "\n",
    "# Print out image data\n",
    "print(f\"Custom image tensor:\\n{custom_image}\\n\")\n",
    "print(f\"Custom image shape: {custom_image.shape}\\n\")\n",
    "print(f\"Custom image dtype: {custom_image.dtype}\")"
   ]
  },
  {
   "cell_type": "markdown",
   "id": "888fa295",
   "metadata": {
    "papermill": {
     "duration": 0.016973,
     "end_time": "2023-01-26T11:08:32.266901",
     "exception": false,
     "start_time": "2023-01-26T11:08:32.249928",
     "status": "completed"
    },
    "tags": []
   },
   "source": [
    "Now let's create transform pipleine to resize image."
   ]
  },
  {
   "cell_type": "code",
   "execution_count": 20,
   "id": "adc5e6aa",
   "metadata": {
    "execution": {
     "iopub.execute_input": "2023-01-26T11:08:32.301885Z",
     "iopub.status.busy": "2023-01-26T11:08:32.301599Z",
     "iopub.status.idle": "2023-01-26T11:08:32.319196Z",
     "shell.execute_reply": "2023-01-26T11:08:32.317793Z"
    },
    "id": "63uu57_JowXg",
    "outputId": "f6d63ccf-b0cf-402d-a97f-bd14f0766112",
    "papermill": {
     "duration": 0.03828,
     "end_time": "2023-01-26T11:08:32.322405",
     "exception": false,
     "start_time": "2023-01-26T11:08:32.284125",
     "status": "completed"
    },
    "tags": []
   },
   "outputs": [
    {
     "name": "stdout",
     "output_type": "stream",
     "text": [
      "Original shape: torch.Size([3, 499, 421])\n",
      "New shape: torch.Size([3, 224, 224])\n"
     ]
    }
   ],
   "source": [
    "custom_image_transform = transforms.Compose([\n",
    "    transforms.Resize(IMAGE_SIZE),\n",
    "])\n",
    "\n",
    "# Transform target image\n",
    "custom_image_transformed = custom_image_transform(custom_image)\n",
    "\n",
    "# Print out original shape and new shape\n",
    "print(f\"Original shape: {custom_image.shape}\")\n",
    "print(f\"New shape: {custom_image_transformed.shape}\")"
   ]
  },
  {
   "cell_type": "markdown",
   "id": "dc7525e3",
   "metadata": {
    "papermill": {
     "duration": 0.01827,
     "end_time": "2023-01-26T11:08:32.359720",
     "exception": false,
     "start_time": "2023-01-26T11:08:32.341450",
     "status": "completed"
    },
    "tags": []
   },
   "source": [
    "First, let's fit the image for the model with the function we created and then make a prediction."
   ]
  },
  {
   "cell_type": "code",
   "execution_count": 21,
   "id": "c7665ae3",
   "metadata": {
    "execution": {
     "iopub.execute_input": "2023-01-26T11:08:32.396023Z",
     "iopub.status.busy": "2023-01-26T11:08:32.395402Z",
     "iopub.status.idle": "2023-01-26T11:08:32.405406Z",
     "shell.execute_reply": "2023-01-26T11:08:32.404359Z"
    },
    "id": "62tSSQHro-_V",
    "outputId": "f44c1e06-cb55-436b-e235-fec914c0d9b9",
    "papermill": {
     "duration": 0.03033,
     "end_time": "2023-01-26T11:08:32.407641",
     "exception": false,
     "start_time": "2023-01-26T11:08:32.377311",
     "status": "completed"
    },
    "tags": []
   },
   "outputs": [
    {
     "name": "stdout",
     "output_type": "stream",
     "text": [
      "Custom image transformed shape: torch.Size([3, 224, 224])\n",
      "Unsqueezed custom image shape: torch.Size([1, 3, 224, 224])\n"
     ]
    }
   ],
   "source": [
    "model.eval()\n",
    "with torch.inference_mode():\n",
    "    # Add an extra dimension to image\n",
    "    custom_image_transformed_with_batch_size = custom_image_transformed.unsqueeze(dim=0)\n",
    "    \n",
    "    # Print out different shapes\n",
    "    print(f\"Custom image transformed shape: {custom_image_transformed.shape}\")\n",
    "    print(f\"Unsqueezed custom image shape: {custom_image_transformed_with_batch_size.shape}\")\n",
    "    \n",
    "    # Make a prediction on image with an extra dimension\n",
    "    custom_image_pred = model(custom_image_transformed.unsqueeze(dim=0).to(device))"
   ]
  },
  {
   "cell_type": "markdown",
   "id": "53119d25",
   "metadata": {
    "papermill": {
     "duration": 0.017135,
     "end_time": "2023-01-26T11:08:32.441440",
     "exception": false,
     "start_time": "2023-01-26T11:08:32.424305",
     "status": "completed"
    },
    "tags": []
   },
   "source": [
    "Now let's take a look at our model's predictions."
   ]
  },
  {
   "cell_type": "code",
   "execution_count": 22,
   "id": "3152c81e",
   "metadata": {
    "execution": {
     "iopub.execute_input": "2023-01-26T11:08:32.477240Z",
     "iopub.status.busy": "2023-01-26T11:08:32.476469Z",
     "iopub.status.idle": "2023-01-26T11:08:32.484130Z",
     "shell.execute_reply": "2023-01-26T11:08:32.483003Z"
    },
    "id": "V8ie7MCupO3H",
    "outputId": "7f0d8adb-3566-47af-fa4f-b84e8777e5fa",
    "papermill": {
     "duration": 0.028062,
     "end_time": "2023-01-26T11:08:32.486415",
     "exception": false,
     "start_time": "2023-01-26T11:08:32.458353",
     "status": "completed"
    },
    "tags": []
   },
   "outputs": [
    {
     "data": {
      "text/plain": [
       "tensor([[-1.2831,  1.3156]], device='cuda:0')"
      ]
     },
     "execution_count": 22,
     "metadata": {},
     "output_type": "execute_result"
    }
   ],
   "source": [
    "custom_image_pred"
   ]
  },
  {
   "cell_type": "markdown",
   "id": "723dc2b0",
   "metadata": {
    "papermill": {
     "duration": 0.016608,
     "end_time": "2023-01-26T11:08:32.520054",
     "exception": false,
     "start_time": "2023-01-26T11:08:32.503446",
     "status": "completed"
    },
    "tags": []
   },
   "source": [
    "Nice! we've seen the prediction values of the model. Let's take a look at the prediction class. First, let me show you the prediction values."
   ]
  },
  {
   "cell_type": "code",
   "execution_count": 23,
   "id": "181302a0",
   "metadata": {
    "execution": {
     "iopub.execute_input": "2023-01-26T11:08:32.554859Z",
     "iopub.status.busy": "2023-01-26T11:08:32.554568Z",
     "iopub.status.idle": "2023-01-26T11:08:32.565407Z",
     "shell.execute_reply": "2023-01-26T11:08:32.564326Z"
    },
    "id": "g7K5cDOqpYqM",
    "outputId": "1e004d6c-7338-46b5-a44b-e13bd6da7d1f",
    "papermill": {
     "duration": 0.031272,
     "end_time": "2023-01-26T11:08:32.567951",
     "exception": false,
     "start_time": "2023-01-26T11:08:32.536679",
     "status": "completed"
    },
    "tags": []
   },
   "outputs": [
    {
     "name": "stdout",
     "output_type": "stream",
     "text": [
      "Prediction logits: tensor([[-1.2831,  1.3156]], device='cuda:0')\n",
      "Prediction probabilities: tensor([[0.0692, 0.9308]], device='cuda:0')\n",
      "Prediction label: tensor([1], device='cuda:0')\n"
     ]
    }
   ],
   "source": [
    "# Let's convert them from logits -> prediction probabilities -> prediction labels\n",
    "# Print out prediction logits\n",
    "print(f\"Prediction logits: {custom_image_pred}\")\n",
    "\n",
    "# Convert logits -> prediction probabilities (using torch.softmax() for multi-class classification)\n",
    "custom_image_pred_probs = torch.softmax(custom_image_pred, dim=1)\n",
    "print(f\"Prediction probabilities: {custom_image_pred_probs}\")\n",
    "\n",
    "# Convert prediction probabilities -> prediction labels\n",
    "custom_image_pred_label = torch.argmax(custom_image_pred_probs, dim=1)\n",
    "print(f\"Prediction label: {custom_image_pred_label}\")"
   ]
  },
  {
   "cell_type": "markdown",
   "id": "6513c37f",
   "metadata": {
    "papermill": {
     "duration": 0.017123,
     "end_time": "2023-01-26T11:08:32.602610",
     "exception": false,
     "start_time": "2023-01-26T11:08:32.585487",
     "status": "completed"
    },
    "tags": []
   },
   "source": [
    "It is time to find the predicted label."
   ]
  },
  {
   "cell_type": "code",
   "execution_count": 24,
   "id": "9a8da898",
   "metadata": {
    "execution": {
     "iopub.execute_input": "2023-01-26T11:08:32.638155Z",
     "iopub.status.busy": "2023-01-26T11:08:32.637380Z",
     "iopub.status.idle": "2023-01-26T11:08:32.644300Z",
     "shell.execute_reply": "2023-01-26T11:08:32.643258Z"
    },
    "id": "BOS4bcrVpfej",
    "outputId": "a7f17784-9d01-43ce-bd55-c3333e22206d",
    "papermill": {
     "duration": 0.026631,
     "end_time": "2023-01-26T11:08:32.646347",
     "exception": false,
     "start_time": "2023-01-26T11:08:32.619716",
     "status": "completed"
    },
    "tags": []
   },
   "outputs": [
    {
     "data": {
      "text/plain": [
       "'dogs'"
      ]
     },
     "execution_count": 24,
     "metadata": {},
     "output_type": "execute_result"
    }
   ],
   "source": [
    "class_names = train_data.classes\n",
    "custom_image_pred_class = class_names[custom_image_pred_label.cpu()] # put pred label to CPU, otherwise will error\n",
    "custom_image_pred_class"
   ]
  },
  {
   "cell_type": "markdown",
   "id": "0dda4eb4",
   "metadata": {
    "papermill": {
     "duration": 0.017832,
     "end_time": "2023-01-26T11:08:32.681855",
     "exception": false,
     "start_time": "2023-01-26T11:08:32.664023",
     "status": "completed"
    },
    "tags": []
   },
   "source": [
    "Let's visualize this image with matplotlib."
   ]
  },
  {
   "cell_type": "code",
   "execution_count": 25,
   "id": "b19c74b4",
   "metadata": {
    "execution": {
     "iopub.execute_input": "2023-01-26T11:08:32.719457Z",
     "iopub.status.busy": "2023-01-26T11:08:32.718667Z",
     "iopub.status.idle": "2023-01-26T11:08:32.928201Z",
     "shell.execute_reply": "2023-01-26T11:08:32.927211Z"
    },
    "id": "XC8l1iqApxXX",
    "outputId": "8bceeaf0-b2aa-42d1-cb6a-3fd01a40d702",
    "papermill": {
     "duration": 0.230832,
     "end_time": "2023-01-26T11:08:32.930884",
     "exception": false,
     "start_time": "2023-01-26T11:08:32.700052",
     "status": "completed"
    },
    "tags": []
   },
   "outputs": [
    {
     "data": {
      "image/png": "[encoded data removed]",
      "text/plain": [
       "<Figure size 432x288 with 1 Axes>"
      ]
     },
     "metadata": {},
     "output_type": "display_data"
    }
   ],
   "source": [
    "# Plot custom image\n",
    "plt.imshow(custom_image.permute(1, 2, 0)) # need to permute image dimensions from CHW -> HWC otherwise matplotlib will error\n",
    "plt.title(f\"Image shape: {custom_image.shape}\")\n",
    "plt.axis(False);"
   ]
  },
  {
   "cell_type": "code",
   "execution_count": 26,
   "id": "b113641c",
   "metadata": {
    "execution": {
     "iopub.execute_input": "2023-01-26T11:08:32.971374Z",
     "iopub.status.busy": "2023-01-26T11:08:32.969926Z",
     "iopub.status.idle": "2023-01-26T11:08:33.033641Z",
     "shell.execute_reply": "2023-01-26T11:08:33.031276Z"
    },
    "papermill": {
     "duration": 0.087441,
     "end_time": "2023-01-26T11:08:33.037578",
     "exception": false,
     "start_time": "2023-01-26T11:08:32.950137",
     "status": "completed"
    },
    "tags": []
   },
   "outputs": [],
   "source": [
    "# Save the model for inference\n",
    "from comet_ml.integration.pytorch import log_model\n",
    "log_model(experiment, model, model_name=\"My_Image_Classification_Model\")"
   ]
  },
  {
   "cell_type": "code",
   "execution_count": 27,
   "id": "54675fed",
   "metadata": {
    "execution": {
     "iopub.execute_input": "2023-01-26T11:08:33.107624Z",
     "iopub.status.busy": "2023-01-26T11:08:33.107210Z",
     "iopub.status.idle": "2023-01-26T11:08:36.200507Z",
     "shell.execute_reply": "2023-01-26T11:08:36.199403Z"
    },
    "papermill": {
     "duration": 3.122706,
     "end_time": "2023-01-26T11:08:36.203184",
     "exception": false,
     "start_time": "2023-01-26T11:08:33.080478",
     "status": "completed"
    },
    "tags": []
   },
   "outputs": [
    {
     "name": "stderr",
     "output_type": "stream",
     "text": [
      "COMET INFO: ---------------------------\n",
      "COMET INFO: Comet.ml Experiment Summary\n",
      "COMET INFO: ---------------------------\n",
      "COMET INFO:   Data:\n",
      "COMET INFO:     display_summary_level : 1\n",
      "COMET INFO:     url                   : https://www.comet.com/tirendaz-academy/experiment-tracking/35bc5619147b495092c71dae805004cb\n",
      "COMET INFO:   Metrics [count] (min, max):\n",
      "COMET INFO:     loss [628]          : (0.04363345354795456, 1.7522886991500854)\n",
      "COMET INFO:     test_accuracy [25]  : (0.5918666294642857, 0.9174107142857143)\n",
      "COMET INFO:     test_loss [25]      : (0.2113520532147959, 0.8916566444095224)\n",
      "COMET INFO:     train_accuracy [25] : (0.5703685258964143, 0.925)\n",
      "COMET INFO:     train_loss [25]     : (0.17618750365250613, 0.9725272566436296)\n",
      "COMET INFO:   Parameters:\n",
      "COMET INFO:     batch_size    : 32\n",
      "COMET INFO:     image_size    : 224\n",
      "COMET INFO:     learning_rate : 0.001\n",
      "COMET INFO:     num_epochs    : 25\n",
      "COMET INFO:     seed          : 42\n",
      "COMET INFO:   Uploads:\n",
      "COMET INFO:     conda-environment-definition : 1\n",
      "COMET INFO:     conda-info                   : 1\n",
      "COMET INFO:     conda-specification          : 1\n",
      "COMET INFO:     environment details          : 1\n",
      "COMET INFO:     filename                     : 1\n",
      "COMET INFO:     installed packages           : 1\n",
      "COMET INFO:     model graph                  : 1\n",
      "COMET INFO:     model-element                : 2 (10.19 MB)\n",
      "COMET INFO:     notebook                     : 1\n",
      "COMET INFO:     os packages                  : 1\n",
      "COMET INFO:     source_code                  : 1\n",
      "COMET INFO: ---------------------------\n",
      "COMET INFO: Uploading metrics, params, and assets to Comet before program termination (may take several seconds)\n",
      "COMET INFO: The Python SDK has 3600 seconds to finish before aborting...\n"
     ]
    }
   ],
   "source": [
    "# Ending our experiment\n",
    "experiment.end()"
   ]
  },
  {
   "cell_type": "markdown",
   "id": "24488df0",
   "metadata": {
    "papermill": {
     "duration": 0.020029,
     "end_time": "2023-01-26T11:08:36.249768",
     "exception": false,
     "start_time": "2023-01-26T11:08:36.229739",
     "status": "completed"
    },
    "tags": []
   },
   "source": [
    "<a id=\"Prediction\"></a>\n",
    "# <p style=\"background-color:coral;font-family:newtimeroman;font-size:150%;color:white;text-align:center;border-radius:20px 20px;\"><b>6. Conclusion</b></p>\n",
    "\n",
    "Experiment tracking is a powerful tool that helps researchers and engineers to improve their models and to make data-driven decisions. In this notebook, you learned how to track an experiment with Comet ML and build an image classification model from scratch with Pytorch. Tensorflow is generally preferred for deep learning projects. However, with Pytorch you can better control the deep-learning analysis steps. Pytorch has been preferred more recently, especially in the academic community. we also talked about data augmentation and highlighted the importance of this technique. I hope you like it. Let me know if you have any questions.\n",
    "\n",
    "# Resources\n",
    "\n",
    "- [Learn Pytorch](https://www.learnpytorch.io/)\n",
    "- [Modern Computer Vision with PyTorch](https://www.amazon.com/Modern-Computer-Vision-PyTorch-applications/dp/1839213477)\n",
    "\n",
    "📌 Thank you for reading 😀 If you like this notebook, don't forget to upvote it 😊\n",
    "\n",
    "🔗 Let's connect [YouTube](http://youtube.com/tirendazacademy) | [Medium](http://tirendazacademy.medium.com) | [Twitter](http://twitter.com/tirendazacademy) | [Instagram](https://www.instagram.com/tirendazacademy) |[GitHub](http://github.com/tirendazacademy) | [Linkedin](https://www.linkedin.com/in/tirendaz-academy) | [Kaggle](https://www.kaggle.com/tirendazacademy) 😎"
   ]
  }
 ],
 "metadata": {
  "kernelspec": {
   "display_name": "Python 3",
   "language": "python",
   "name": "python3"
  },
  "language_info": {
   "codemirror_mode": {
    "name": "ipython",
    "version": 3
   },
   "file_extension": ".py",
   "mimetype": "text/x-python",
   "name": "python",
   "nbconvert_exporter": "python",
   "pygments_lexer": "ipython3",
   "version": "3.7.12"
  },
  "papermill": {
   "default_parameters": {},
   "duration": 2963.848828,
   "end_time": "2023-01-26T11:08:38.898617",
   "environment_variables": {},
   "exception": null,
   "input_path": "__notebook__.ipynb",
   "output_path": "__notebook__.ipynb",
   "parameters": {},
   "start_time": "2023-01-26T10:19:15.049789",
   "version": "2.3.4"
  },
  "widgets": {
   "application/vnd.jupyter.widget-state+json": {
    "state": {
     "09b2dbfe4e0a469fb2208039cc850c05": {
      "model_module": "@jupyter-widgets/controls",
      "model_module_version": "1.5.0",
      "model_name": "HTMLModel",
      "state": {
       "_dom_classes": [],
       "_model_module": "@jupyter-widgets/controls",
       "_model_module_version": "1.5.0",
       "_model_name": "HTMLModel",
       "_view_count": null,
       "_view_module": "@jupyter-widgets/controls",
       "_view_module_version": "1.5.0",
       "_view_name": "HTMLView",
       "description": "",
       "description_tooltip": null,
       "layout": "IPY_MODEL_3032d965ce834fe393d269742b4f793a",
       "placeholder": "​",
       "style": "IPY_MODEL_8d84b5c4c7514bd6a4694cb66dbb87af",
       "value": " 25/25 [48:09&lt;00:00, 114.92s/it]"
      }
     },
     "12187043214c4bdb8ff834c5bf5591b7": {
      "model_module": "@jupyter-widgets/controls",
      "model_module_version": "1.5.0",
      "model_name": "DescriptionStyleModel",
      "state": {
       "_model_module": "@jupyter-widgets/controls",
       "_model_module_version": "1.5.0",
       "_model_name": "DescriptionStyleModel",
       "_view_count": null,
       "_view_module": "@jupyter-widgets/base",
       "_view_module_version": "1.2.0",
       "_view_name": "StyleView",
       "description_width": ""
      }
     },
     "17e05ae25d4848b4b14b6c40c240c5b3": {
      "model_module": "@jupyter-widgets/base",
      "model_module_version": "1.2.0",
      "model_name": "LayoutModel",
      "state": {
       "_model_module": "@jupyter-widgets/base",
       "_model_module_version": "1.2.0",
       "_model_name": "LayoutModel",
       "_view_count": null,
       "_view_module": "@jupyter-widgets/base",
       "_view_module_version": "1.2.0",
       "_view_name": "LayoutView",
       "align_content": null,
       "align_items": null,
       "align_self": null,
       "border": null,
       "bottom": null,
       "display": null,
       "flex": null,
       "flex_flow": null,
       "grid_area": null,
       "grid_auto_columns": null,
       "grid_auto_flow": null,
       "grid_auto_rows": null,
       "grid_column": null,
       "grid_gap": null,
       "grid_row": null,
       "grid_template_areas": null,
       "grid_template_columns": null,
       "grid_template_rows": null,
       "height": null,
       "justify_content": null,
       "justify_items": null,
       "left": null,
       "margin": null,
       "max_height": null,
       "max_width": null,
       "min_height": null,
       "min_width": null,
       "object_fit": null,
       "object_position": null,
       "order": null,
       "overflow": null,
       "overflow_x": null,
       "overflow_y": null,
       "padding": null,
       "right": null,
       "top": null,
       "visibility": null,
       "width": null
      }
     },
     "24b7790c22d34d4f94a586c5f5160000": {
      "model_module": "@jupyter-widgets/base",
      "model_module_version": "1.2.0",
      "model_name": "LayoutModel",
      "state": {
       "_model_module": "@jupyter-widgets/base",
       "_model_module_version": "1.2.0",
       "_model_name": "LayoutModel",
       "_view_count": null,
       "_view_module": "@jupyter-widgets/base",
       "_view_module_version": "1.2.0",
       "_view_name": "LayoutView",
       "align_content": null,
       "align_items": null,
       "align_self": null,
       "border": null,
       "bottom": null,
       "display": null,
       "flex": null,
       "flex_flow": null,
       "grid_area": null,
       "grid_auto_columns": null,
       "grid_auto_flow": null,
       "grid_auto_rows": null,
       "grid_column": null,
       "grid_gap": null,
       "grid_row": null,
       "grid_template_areas": null,
       "grid_template_columns": null,
       "grid_template_rows": null,
       "height": null,
       "justify_content": null,
       "justify_items": null,
       "left": null,
       "margin": null,
       "max_height": null,
       "max_width": null,
       "min_height": null,
       "min_width": null,
       "object_fit": null,
       "object_position": null,
       "order": null,
       "overflow": null,
       "overflow_x": null,
       "overflow_y": null,
       "padding": null,
       "right": null,
       "top": null,
       "visibility": null,
       "width": null
      }
     },
     "3032d965ce834fe393d269742b4f793a": {
      "model_module": "@jupyter-widgets/base",
      "model_module_version": "1.2.0",
      "model_name": "LayoutModel",
      "state": {
       "_model_module": "@jupyter-widgets/base",
       "_model_module_version": "1.2.0",
       "_model_name": "LayoutModel",
       "_view_count": null,
       "_view_module": "@jupyter-widgets/base",
       "_view_module_version": "1.2.0",
       "_view_name": "LayoutView",
       "align_content": null,
       "align_items": null,
       "align_self": null,
       "border": null,
       "bottom": null,
       "display": null,
       "flex": null,
       "flex_flow": null,
       "grid_area": null,
       "grid_auto_columns": null,
       "grid_auto_flow": null,
       "grid_auto_rows": null,
       "grid_column": null,
       "grid_gap": null,
       "grid_row": null,
       "grid_template_areas": null,
       "grid_template_columns": null,
       "grid_template_rows": null,
       "height": null,
       "justify_content": null,
       "justify_items": null,
       "left": null,
       "margin": null,
       "max_height": null,
       "max_width": null,
       "min_height": null,
       "min_width": null,
       "object_fit": null,
       "object_position": null,
       "order": null,
       "overflow": null,
       "overflow_x": null,
       "overflow_y": null,
       "padding": null,
       "right": null,
       "top": null,
       "visibility": null,
       "width": null
      }
     },
     "364520c5a0cc4f2283dfabb7a2650639": {
      "model_module": "@jupyter-widgets/controls",
      "model_module_version": "1.5.0",
      "model_name": "FloatProgressModel",
      "state": {
       "_dom_classes": [],
       "_model_module": "@jupyter-widgets/controls",
       "_model_module_version": "1.5.0",
       "_model_name": "FloatProgressModel",
       "_view_count": null,
       "_view_module": "@jupyter-widgets/controls",
       "_view_module_version": "1.5.0",
       "_view_name": "ProgressView",
       "bar_style": "success",
       "description": "",
       "description_tooltip": null,
       "layout": "IPY_MODEL_24b7790c22d34d4f94a586c5f5160000",
       "max": 25.0,
       "min": 0.0,
       "orientation": "horizontal",
       "style": "IPY_MODEL_a6ee6d7d84df407da8b47b0109d41f39",
       "value": 25.0
      }
     },
     "541ebd461427416c8e81211d10f402af": {
      "model_module": "@jupyter-widgets/controls",
      "model_module_version": "1.5.0",
      "model_name": "HBoxModel",
      "state": {
       "_dom_classes": [],
       "_model_module": "@jupyter-widgets/controls",
       "_model_module_version": "1.5.0",
       "_model_name": "HBoxModel",
       "_view_count": null,
       "_view_module": "@jupyter-widgets/controls",
       "_view_module_version": "1.5.0",
       "_view_name": "HBoxView",
       "box_style": "",
       "children": [
        "IPY_MODEL_c994e418432a447b9555120628fded61",
        "IPY_MODEL_364520c5a0cc4f2283dfabb7a2650639",
        "IPY_MODEL_09b2dbfe4e0a469fb2208039cc850c05"
       ],
       "layout": "IPY_MODEL_17e05ae25d4848b4b14b6c40c240c5b3"
      }
     },
     "8d84b5c4c7514bd6a4694cb66dbb87af": {
      "model_module": "@jupyter-widgets/controls",
      "model_module_version": "1.5.0",
      "model_name": "DescriptionStyleModel",
      "state": {
       "_model_module": "@jupyter-widgets/controls",
       "_model_module_version": "1.5.0",
       "_model_name": "DescriptionStyleModel",
       "_view_count": null,
       "_view_module": "@jupyter-widgets/base",
       "_view_module_version": "1.2.0",
       "_view_name": "StyleView",
       "description_width": ""
      }
     },
     "a6ee6d7d84df407da8b47b0109d41f39": {
      "model_module": "@jupyter-widgets/controls",
      "model_module_version": "1.5.0",
      "model_name": "ProgressStyleModel",
      "state": {
       "_model_module": "@jupyter-widgets/controls",
       "_model_module_version": "1.5.0",
       "_model_name": "ProgressStyleModel",
       "_view_count": null,
       "_view_module": "@jupyter-widgets/base",
       "_view_module_version": "1.2.0",
       "_view_name": "StyleView",
       "bar_color": null,
       "description_width": ""
      }
     },
     "bc84b9d5c4974c7194862ff35ec8d226": {
      "model_module": "@jupyter-widgets/base",
      "model_module_version": "1.2.0",
      "model_name": "LayoutModel",
      "state": {
       "_model_module": "@jupyter-widgets/base",
       "_model_module_version": "1.2.0",
       "_model_name": "LayoutModel",
       "_view_count": null,
       "_view_module": "@jupyter-widgets/base",
       "_view_module_version": "1.2.0",
       "_view_name": "LayoutView",
       "align_content": null,
       "align_items": null,
       "align_self": null,
       "border": null,
       "bottom": null,
       "display": null,
       "flex": null,
       "flex_flow": null,
       "grid_area": null,
       "grid_auto_columns": null,
       "grid_auto_flow": null,
       "grid_auto_rows": null,
       "grid_column": null,
       "grid_gap": null,
       "grid_row": null,
       "grid_template_areas": null,
       "grid_template_columns": null,
       "grid_template_rows": null,
       "height": null,
       "justify_content": null,
       "justify_items": null,
       "left": null,
       "margin": null,
       "max_height": null,
       "max_width": null,
       "min_height": null,
       "min_width": null,
       "object_fit": null,
       "object_position": null,
       "order": null,
       "overflow": null,
       "overflow_x": null,
       "overflow_y": null,
       "padding": null,
       "right": null,
       "top": null,
       "visibility": null,
       "width": null
      }
     },
     "c994e418432a447b9555120628fded61": {
      "model_module": "@jupyter-widgets/controls",
      "model_module_version": "1.5.0",
      "model_name": "HTMLModel",
      "state": {
       "_dom_classes": [],
       "_model_module": "@jupyter-widgets/controls",
       "_model_module_version": "1.5.0",
       "_model_name": "HTMLModel",
       "_view_count": null,
       "_view_module": "@jupyter-widgets/controls",
       "_view_module_version": "1.5.0",
       "_view_name": "HTMLView",
       "description": "",
       "description_tooltip": null,
       "layout": "IPY_MODEL_bc84b9d5c4974c7194862ff35ec8d226",
       "placeholder": "​",
       "style": "IPY_MODEL_12187043214c4bdb8ff834c5bf5591b7",
       "value": "100%"
      }
     }
    },
    "version_major": 2,
    "version_minor": 0
   }
  }
 },
 "nbformat": 4,
 "nbformat_minor": 5
}
